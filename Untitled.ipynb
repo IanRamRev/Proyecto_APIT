{
 "cells": [
  {
   "cell_type": "code",
   "execution_count": 25,
   "metadata": {},
   "outputs": [],
   "source": [
    "import numpy\n",
    "from nltk.probability import ConditionalFreqDist\n",
    "from nltk.tokenize import word_tokenize\n",
    "from nltk.tokenize import sent_tokenize"
   ]
  },
  {
   "cell_type": "code",
   "execution_count": 98,
   "metadata": {},
   "outputs": [],
   "source": [
    "def probability(tokens, frecuency):\n",
    "    probabilidad = numpy.zeros(len(frecuency))\n",
    "    for i in range(len(frecuency)):\n",
    "        probabilidad[i] = frecuency[i]/len(tokens)\n",
    "        \n",
    "    return probabilidad\n",
    "    "
   ]
  },
  {
   "cell_type": "code",
   "execution_count": 99,
   "metadata": {},
   "outputs": [],
   "source": [
    "oracion = \"Estábamos los dos mirando el mar cuando la tarde moría. Como moría lo nuestro, juro que no lo sabía sabía sabía\""
   ]
  },
  {
   "cell_type": "code",
   "execution_count": 100,
   "metadata": {},
   "outputs": [
    {
     "name": "stdout",
     "output_type": "stream",
     "text": [
      "Tokens inglés: \n",
      " ['Estábamos', 'los', 'dos', 'mirando', 'el', 'mar', 'cuando', 'la', 'tarde', 'moría', '.', 'Como', 'moría', 'lo', 'nuestro', ',', 'juro', 'que', 'no', 'lo', 'sabía', 'sabía', 'sabía']\n",
      "\n",
      "Tokens español: \n",
      " ['Estábamos los dos mirando el mar cuando la tarde moría.', 'Como moría lo nuestro, juro que no lo sabía sabía sabía']\n"
     ]
    }
   ],
   "source": [
    "#Tokenizamos la oración (nos devuelve una lista)\n",
    "tokens = nltk.word_tokenize(oracion)\n",
    "print(\"Tokens inglés: \\n\", tokens)\n",
    "#Tokenizamos la oración con idioma español\n",
    "print(\"\\nTokens español: \\n\", sent_tokenize(oracion,\"spanish\"))\n",
    "token = numpy.asarray(tokens)"
   ]
  },
  {
   "cell_type": "code",
   "execution_count": 101,
   "metadata": {},
   "outputs": [],
   "source": [
    "#Obtenemos la frecuencia de apariciones de cada token de la oraci\n",
    "ocurrencias = numpy.unique(token, return_counts=True)\n",
    "frecuencia = ocurrencias[1]\n",
    "proba = probability(token, frecuencia)\n",
    "#proba"
   ]
  },
  {
   "cell_type": "code",
   "execution_count": 79,
   "metadata": {},
   "outputs": [
    {
     "name": "stdout",
     "output_type": "stream",
     "text": [
      "[0.04347826 0.04347826 0.04347826 0.04347826 0.04347826 0.04347826\n",
      " 0.04347826 0.04347826 0.04347826 0.08695652 0.04347826 0.04347826\n",
      " 0.04347826 0.08695652 0.04347826 0.04347826 0.04347826 0.13043478\n",
      " 0.04347826]\n"
     ]
    }
   ],
   "source": [
    "proba = probability(frecuencia[1])\n",
    "print(proba)"
   ]
  },
  {
   "cell_type": "code",
   "execution_count": null,
   "metadata": {},
   "outputs": [],
   "source": []
  }
 ],
 "metadata": {
  "kernelspec": {
   "display_name": "Python 3",
   "language": "python",
   "name": "python3"
  },
  "language_info": {
   "codemirror_mode": {
    "name": "ipython",
    "version": 3
   },
   "file_extension": ".py",
   "mimetype": "text/x-python",
   "name": "python",
   "nbconvert_exporter": "python",
   "pygments_lexer": "ipython3",
   "version": "3.7.6"
  }
 },
 "nbformat": 4,
 "nbformat_minor": 4
}
