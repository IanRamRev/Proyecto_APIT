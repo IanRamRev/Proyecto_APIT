{
 "cells": [
  {
   "cell_type": "markdown",
   "metadata": {},
   "source": [
    "* https://github.com/cjhutto/vaderSentiment#about-the-scoring\n",
    "* http://www.cic.ipn.mx/~sidorov/#SEL\n",
    "* http://tass.sepln.org/tass_data/download.php"
   ]
  },
  {
   "cell_type": "markdown",
   "metadata": {},
   "source": [
    "### Análisis de sentimientos utilizando vaderSentiment"
   ]
  },
  {
   "cell_type": "code",
   "execution_count": 102,
   "metadata": {},
   "outputs": [],
   "source": [
    "import nltk\n",
    "from gensim import models\n",
    "import pandas \n",
    "import json\n",
    "import numpy\n",
    "import matplotlib.pyplot as plt\n",
    "import seaborn as sns\n",
    "import itertools\n",
    "\n",
    "#Análisis de sentimientos\n",
    "from textblob import TextBlob\n",
    "from vaderSentiment.vaderSentiment import SentimentIntensityAnalyzer\n",
    "\n",
    "\n",
    "\n",
    "from sklearn.model_selection import train_test_split\n",
    "from sklearn.metrics import confusion_matrix\n",
    "from sklearn.metrics import ConfusionMatrixDisplay"
   ]
  },
  {
   "cell_type": "code",
   "execution_count": 103,
   "metadata": {},
   "outputs": [],
   "source": [
    "def plot_confusion_matrix(cm,\n",
    "                          target_names,\n",
    "                          title='Confusion matrix',\n",
    "                          cmap=None,\n",
    "                          normalize=True):\n",
    "    \"\"\"\n",
    "    given a sklearn confusion matrix (cm), make a nice plot\n",
    "\n",
    "    Arguments\n",
    "    ---------\n",
    "    cm:           confusion matrix from sklearn.metrics.confusion_matrix\n",
    "\n",
    "    target_names: given classification classes such as [0, 1, 2]\n",
    "                  the class names, for example: ['high', 'medium', 'low']\n",
    "\n",
    "    title:        the text to display at the top of the matrix\n",
    "\n",
    "    cmap:         the gradient of the values displayed from matplotlib.pyplot.cm\n",
    "                  see http://matplotlib.org/examples/color/colormaps_reference.html\n",
    "                  plt.get_cmap('jet') or plt.cm.Blues\n",
    "\n",
    "    normalize:    If False, plot the raw numbers\n",
    "                  If True, plot the proportions\n",
    "\n",
    "    Citiation\n",
    "    ---------\n",
    "    http://scikit-learn.org/stable/auto_examples/model_selection/plot_confusion_matrix.html\n",
    "\n",
    "    \"\"\"\n",
    "\n",
    "    accuracy = numpy.trace(cm) / numpy.sum(cm).astype('float')\n",
    "    misclass = 1 - accuracy\n",
    "\n",
    "    if cmap is None:\n",
    "        cmap = plt.get_cmap('Blues')\n",
    "\n",
    "    plt.figure(figsize=(8, 6))\n",
    "    plt.imshow(cm, interpolation='nearest', cmap=cmap)\n",
    "    plt.title(title)\n",
    "    plt.colorbar()\n",
    "\n",
    "    if target_names is not None:\n",
    "        tick_marks = numpy.arange(len(target_names))\n",
    "        plt.xticks(tick_marks, target_names)\n",
    "        plt.yticks(tick_marks, target_names)\n",
    "\n",
    "    if normalize:\n",
    "        cm = cm.astype('float') / cm.sum(axis=1)[:, numpy.newaxis]\n",
    "\n",
    "\n",
    "    thresh = cm.max() / 1.5 if normalize else cm.max() / 2\n",
    "    for i, j in itertools.product(range(cm.shape[0]), range(cm.shape[1])):\n",
    "        if normalize:\n",
    "            plt.text(j, i, \"{:0.4f}\".format(cm[i, j]),\n",
    "                     horizontalalignment=\"center\",\n",
    "                     color=\"black\" if cm[i, j] > thresh else \"black\")\n",
    "        else:\n",
    "            plt.text(j, i, \"{:,}\".format(cm[i, j]),\n",
    "                     horizontalalignment=\"center\",\n",
    "                     color=\"black\" if cm[i, j] > thresh else \"black\")\n",
    "\n",
    "\n",
    "    plt.tight_layout()\n",
    "    plt.ylabel('Valores reales')\n",
    "    plt.xlabel('Valores predichos\\Exactitud={:0.2f}; Tasa de error={:0.2f}'.format(accuracy, misclass))\n",
    "    plt.show()"
   ]
  },
  {
   "cell_type": "markdown",
   "metadata": {},
   "source": [
    "##### Editamos el LEXICON que viene integrado en SentimentalIntensityAnalizer "
   ]
  },
  {
   "cell_type": "code",
   "execution_count": 104,
   "metadata": {
    "scrolled": true
   },
   "outputs": [
    {
     "name": "stdout",
     "output_type": "stream",
     "text": [
      "<class 'pandas.core.frame.DataFrame'>\n",
      "RangeIndex: 2037 entries, 0 to 2036\n",
      "Data columns (total 2 columns):\n",
      " #   Column   Non-Null Count  Dtype \n",
      "---  ------   --------------  ----- \n",
      " 0   Palabra  2037 non-null   object\n",
      " 1   PFA      2037 non-null   object\n",
      "dtypes: object(2)\n",
      "memory usage: 32.0+ KB\n"
     ]
    }
   ],
   "source": [
    "lexicon = pandas.read_csv('SEL/SEL_UTF8.txt', sep='\\t', names=['Palabra', 'PFA', 'Categoría'])\n",
    "lexicon.drop(['Categoría'], axis='columns', inplace=True)\n",
    "lexicon.info()\n",
    "\n",
    "Palabras = numpy.array(lexicon.Palabra)\n",
    "PFA = numpy.array(lexicon.PFA)"
   ]
  },
  {
   "cell_type": "code",
   "execution_count": 108,
   "metadata": {},
   "outputs": [
    {
     "name": "stdout",
     "output_type": "stream",
     "text": [
      "Total de palabras del lexicon en español =  1909\n"
     ]
    }
   ],
   "source": [
    "lista = []\n",
    "for i in range(1, len(Palabras)):\n",
    "    lista.append([Palabras[i], float(PFA[i])])\n",
    "    \n",
    "lexi = {a : b for a,b in lista}\n",
    "print(\"Total de palabras del lexicon en español = \", len(lexi))"
   ]
  },
  {
   "cell_type": "markdown",
   "metadata": {},
   "source": [
    "##### Integramos el nuevo Lexicon al lexicon base "
   ]
  },
  {
   "cell_type": "code",
   "execution_count": 109,
   "metadata": {},
   "outputs": [],
   "source": [
    "SIA = SentimentIntensityAnalyzer()\n",
    "SIA.lexicon.update(lexi)"
   ]
  },
  {
   "cell_type": "markdown",
   "metadata": {},
   "source": [
    "## TEST"
   ]
  },
  {
   "cell_type": "code",
   "execution_count": 110,
   "metadata": {},
   "outputs": [
    {
     "name": "stdout",
     "output_type": "stream",
     "text": [
      "<class 'pandas.core.frame.DataFrame'>\n",
      "Int64Index: 989 entries, 0 to 1976\n",
      "Data columns (total 2 columns):\n",
      " #   Column     Non-Null Count  Dtype \n",
      "---  ------     --------------  ----- \n",
      " 0   Tweet      989 non-null    object\n",
      " 1   Polaridad  989 non-null    object\n",
      "dtypes: object(2)\n",
      "memory usage: 23.2+ KB\n"
     ]
    }
   ],
   "source": [
    "tweets = pandas.read_csv(\".//TweetsTrainSentiment//TweetsClasificados.csv\", names=['Tweet', 'Polaridad'])\n",
    "tweets =tweets.dropna()\n",
    "tweets.info()"
   ]
  },
  {
   "cell_type": "markdown",
   "metadata": {},
   "source": [
    "#### Eliminamos las clasificaciones NONE"
   ]
  },
  {
   "cell_type": "code",
   "execution_count": 111,
   "metadata": {},
   "outputs": [
    {
     "name": "stdout",
     "output_type": "stream",
     "text": [
      "Tweets totales =  896\n",
      "Positivos =  312 Negativos =  505 Neutrales =  79\n"
     ]
    }
   ],
   "source": [
    "cleanTweets = []\n",
    "pol = tweets.Polaridad.values.tolist()\n",
    "tw = tweets.Tweet.values.tolist()\n",
    "for i in range(len(pol)):\n",
    "    if (pol[i] != 'NONE'):\n",
    "        cleanTweets.append(([tw[i], pol[i]]))\n",
    "        \n",
    "CT = numpy.asarray(cleanTweets)\n",
    "print(\"Tweets totales = \", len(CT))\n",
    "\n",
    "positivos = 0\n",
    "negativos = 0\n",
    "neutrales = 0\n",
    "for i in range(len(CT)):\n",
    "    if (CT[i][1] == 'P'):\n",
    "        positivos += 1\n",
    "    if (CT[i][1] == 'N'):\n",
    "        negativos += 1\n",
    "    if (CT[i][1] == 'NEU'):\n",
    "        neutrales += 1\n",
    "        \n",
    "        \n",
    "print(\"Positivos = \", positivos, \"Negativos = \", negativos, \"Neutrales = \", neutrales)\n",
    "n_classes = len(['P', 'N', 'NEU'])"
   ]
  },
  {
   "cell_type": "code",
   "execution_count": 112,
   "metadata": {},
   "outputs": [
    {
     "name": "stdout",
     "output_type": "stream",
     "text": [
      "896\n",
      "['O sea no es que sea mal pedo , pero si uno no puede venir a tomar a su casa con amigos pues los demás tampoco se quedaron sin fiesta. Ups', 'N']\n"
     ]
    }
   ],
   "source": [
    "X = CT[:,0]\n",
    "Y = CT[:,1]\n",
    "print(len(Y))\n",
    "x, X_test, y, y_test = train_test_split(X, Y, test_size=0.9, random_state=100)\n",
    "\n",
    "data = []\n",
    "for i in range(len(X_test)):\n",
    "    data.append([X_test[i], y_test[i]])\n",
    "    \n",
    "print(data[1])"
   ]
  },
  {
   "cell_type": "code",
   "execution_count": 113,
   "metadata": {},
   "outputs": [
    {
     "name": "stdout",
     "output_type": "stream",
     "text": [
      "242\n"
     ]
    }
   ],
   "source": [
    "res = []\n",
    "pos = 0\n",
    "for i in range(len(data)):\n",
    "    tweet = data[i][0]\n",
    "    vs = SIA.polarity_scores(tweet)\n",
    "    auxArr = numpy.split(numpy.asarray(list(vs.items())).T, 2)\n",
    "    values = numpy.asarray(auxArr[1], dtype =float).flatten()\n",
    "    compound = values[3]\n",
    "    #print(compound)\n",
    "    \n",
    "    if(compound >= 0.05):\n",
    "        res.append(['P'])\n",
    "    elif(compound <= -0.05):\n",
    "        res.append(['N'])\n",
    "        pos += 1\n",
    "    elif (compound > -0.05 and compound < 0.05):\n",
    "        res.append(['NEU'])\n",
    "        "
   ]
  },
  {
   "cell_type": "code",
   "execution_count": 114,
   "metadata": {},
   "outputs": [
    {
     "name": "stdout",
     "output_type": "stream",
     "text": [
      "[[119  52 110]\n",
      " [136 158 163]\n",
      " [ 18  32  19]]\n"
     ]
    }
   ],
   "source": [
    "labels = ['P', 'N', 'NEU']\n",
    "cm = numpy.asarray(confusion_matrix(y_test, res, labels), dtype=numpy.uint8)\n",
    "print(cm)"
   ]
  },
  {
   "cell_type": "code",
   "execution_count": 96,
   "metadata": {},
   "outputs": [
    {
     "data": {
      "image/png": "[encoded data removed]",
      "text/plain": [
       "<Figure size 576x432 with 2 Axes>"
      ]
     },
     "metadata": {
      "needs_background": "light"
     },
     "output_type": "display_data"
    }
   ],
   "source": [
    "plot_confusion_matrix(cm,\n",
    "                      labels,\n",
    "                      title='Matriz de confusión',\n",
    "                      cmap=None,\n",
    "                      normalize=True)"
   ]
  },
  {
   "cell_type": "code",
   "execution_count": null,
   "metadata": {},
   "outputs": [],
   "source": []
  }
 ],
 "metadata": {
  "kernelspec": {
   "display_name": "Python 3",
   "language": "python",
   "name": "python3"
  },
  "language_info": {
   "codemirror_mode": {
    "name": "ipython",
    "version": 3
   },
   "file_extension": ".py",
   "mimetype": "text/x-python",
   "name": "python",
   "nbconvert_exporter": "python",
   "pygments_lexer": "ipython3",
   "version": "3.7.6"
  }
 },
 "nbformat": 4,
 "nbformat_minor": 4
}
