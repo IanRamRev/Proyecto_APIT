{
 "cells": [
  {
   "cell_type": "markdown",
   "metadata": {},
   "source": [
    "https://www.kaggle.com/ryanxjhan/cbc-news-coronavirus-articles-march-26"
   ]
  },
  {
   "cell_type": "code",
   "execution_count": 83,
   "metadata": {},
   "outputs": [],
   "source": [
    "import nltk\n",
    "import pprint\n",
    "from gensim import models\n",
    "\n",
    "#Análisis de sentimientos\n",
    "from textblob import TextBlob\n",
    "from vaderSentiment.vaderSentiment import SentimentIntensityAnalyzer\n",
    "\n",
    "\n",
    "\n",
    "#Traductor\n",
    "from nltk.translate import AlignedSent, Alignment\n",
    "\n",
    "import matplotlib.pyplot as plt"
   ]
  },
  {
   "cell_type": "code",
   "execution_count": 74,
   "metadata": {},
   "outputs": [],
   "source": [
    "p1 = 'Textblob is amazingly simple to use. What great fun!'\n",
    "testimonial = TextBlob(p1)\n",
    "p2 = \"Los amorosos callan\"\n",
    "testimonial2 = TextBlob(p2)"
   ]
  },
  {
   "cell_type": "markdown",
   "metadata": {},
   "source": [
    "Con TextBlob, obtenemos una métrica de polaridad y subjetividad. La polaridad es el sentimiento mismo, que va de -1 a +1. La subjetividad es una medida del sentimiento siendo objetivo a subjetivo, y va de 0 a 1. Preferimos ver el sentimiento que es objetivo que subjetivo, así que una puntuación más baja probablemente denote una lectura más precisa. Ya veremos."
   ]
  },
  {
   "cell_type": "code",
   "execution_count": 80,
   "metadata": {},
   "outputs": [
    {
     "name": "stdout",
     "output_type": "stream",
     "text": [
      "Textblob es increíblemente simple de usar. ¡Qué gran diversión!\n"
     ]
    }
   ],
   "source": [
    "#Traduce texto de inglés a español (necesaria conexión a internet)\n",
    "strEsp = testimonial.translate(to=\"es\")\n",
    "print(strEsp)\n"
   ]
  },
  {
   "cell_type": "code",
   "execution_count": 68,
   "metadata": {},
   "outputs": [
    {
     "data": {
      "text/plain": [
       "Sentiment(polarity=0.39166666666666666, subjectivity=0.4357142857142857)"
      ]
     },
     "execution_count": 68,
     "metadata": {},
     "output_type": "execute_result"
    }
   ],
   "source": [
    "# Regresa tupla (polaridad y subjetividad)\n",
    "testimonial.sentiment"
   ]
  },
  {
   "cell_type": "markdown",
   "metadata": {},
   "source": [
    "Probamos ahora con la librería vaderSentiment\n",
    "* neu=neutral\n",
    "* compound= es una regla que normaliza, digamos que puede ser parecido a una media de los otros valores\n",
    "* pos=positivo\n",
    "* neg=negativo\n",
    "\n",
    "En general podemos decir:\n",
    "\n",
    "* positivo sentimiento: compound >= 0.5\n",
    "* neutral sentimiento: (compound > -0.5) and (compound < 0.5)\n",
    "* negativo sentimiento: compound <= -0.5"
   ]
  },
  {
   "cell_type": "code",
   "execution_count": 70,
   "metadata": {},
   "outputs": [
    {
     "name": "stdout",
     "output_type": "stream",
     "text": [
      "{'neg': 0.0, 'neu': 0.469, 'pos': 0.531, 'compound': 0.5267}\n"
     ]
    }
   ],
   "source": [
    "analyzer = SentimentIntensityAnalyzer()\n",
    "vs = analyzer.polarity_scores(\"the lovers are silent\")\n",
    "print(vs)"
   ]
  },
  {
   "cell_type": "code",
   "execution_count": null,
   "metadata": {},
   "outputs": [],
   "source": []
  }
 ],
 "metadata": {
  "kernelspec": {
   "display_name": "Python 3",
   "language": "python",
   "name": "python3"
  },
  "language_info": {
   "codemirror_mode": {
    "name": "ipython",
    "version": 3
   },
   "file_extension": ".py",
   "mimetype": "text/x-python",
   "name": "python",
   "nbconvert_exporter": "python",
   "pygments_lexer": "ipython3",
   "version": "3.7.6"
  }
 },
 "nbformat": 4,
 "nbformat_minor": 4
}
