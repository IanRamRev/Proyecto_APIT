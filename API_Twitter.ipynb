{
 "cells": [
  {
   "cell_type": "markdown",
   "metadata": {},
   "source": [
    "http://docs.tweepy.org/en/latest/getting_started.html\n",
    "https://developer.twitter.com/en/apps/17883942"
   ]
  },
  {
   "cell_type": "code",
   "execution_count": 1,
   "metadata": {},
   "outputs": [],
   "source": [
    "import json \n",
    "import tweepy\n",
    "import pandas as pd\n",
    "import numpy\n",
    "import csv"
   ]
  },
  {
   "cell_type": "code",
   "execution_count": 2,
   "metadata": {},
   "outputs": [],
   "source": [
    "#Autenticación\n",
    "\n",
    "auth = tweepy.OAuthHandler(consumer_key, consumer_secret)\n",
    "auth.set_access_token(access_token, access_token_secret)\n",
    "\n",
    "#Se realizan todas las llamadas a la app de Twitter\n",
    "#api = tweepy.API(auth, wait_on_rate_limit = True, wait_on_rate_limit_notify = True)\n",
    "api = tweepy.API(auth, \n",
    "                 wait_on_rate_limit=True, \n",
    "                 wait_on_rate_limit_notify=True)"
   ]
  },
  {
   "cell_type": "code",
   "execution_count": 9,
   "metadata": {},
   "outputs": [
    {
     "name": "stdout",
     "output_type": "stream",
     "text": [
      "Total de tweets =  10\n",
      "['#Código de #CSharp - Calculadora C# y VisualStudio https://t.co/rq1ELNO0k4', 'https://t.co/TuK7wRElOo', 'Just Eat Takeaway adquiere Grubhub por 7.300 millones de dólares: su desembarco en EE.UU. tras consolidarse en Europa https://t.co/ZYswOMxg6X https://t.co/3yNhCAQpkO', 'Love Rosie https://t.co/VRCUoTpCbM', 'Diferencias entre el Google Chromecast y el Chromecast integrado o built-in de los Android TV https://t.co/U7SZ5mDp3z', 'https://t.co/RCWhzazhef', 'El explorador, marino e investigador francés Jacques Y. Cousteau nació tal día como hoy: https://t.co/EUhnnZepGP https://t.co/1FOkcvtmyh', 'https://t.co/E2UGrHl1o1', 'https://t.co/M5P0Ct1MKz', 'https://t.co/GX1D4nOklW']\n"
     ]
    }
   ],
   "source": [
    "tweets = []\n",
    "i = 0\n",
    "for tweet in tweepy.Cursor(api.home_timeline, tweet_mode='extended').items(10):\n",
    "    text = tweet.retweeted_status.full_text if tweet.full_text.startswith(\"RT @\") else tweet.full_text\n",
    "    if len(text) > 0:\n",
    "        tweets.append(text)\n",
    "    i += 1\n",
    "\n",
    "print(\"Total de tweets = \", len(tweets))\n",
    "print(tweets)"
   ]
  },
  {
   "cell_type": "code",
   "execution_count": 10,
   "metadata": {},
   "outputs": [
    {
     "data": {
      "text/html": [
       "<div>\n",
       "<style scoped>\n",
       "    .dataframe tbody tr th:only-of-type {\n",
       "        vertical-align: middle;\n",
       "    }\n",
       "\n",
       "    .dataframe tbody tr th {\n",
       "        vertical-align: top;\n",
       "    }\n",
       "\n",
       "    .dataframe thead th {\n",
       "        text-align: right;\n",
       "    }\n",
       "</style>\n",
       "<table border=\"1\" class=\"dataframe\">\n",
       "  <thead>\n",
       "    <tr style=\"text-align: right;\">\n",
       "      <th></th>\n",
       "      <th>Tweets</th>\n",
       "    </tr>\n",
       "  </thead>\n",
       "  <tbody>\n",
       "    <tr>\n",
       "      <th>0</th>\n",
       "      <td>#Código de #CSharp - Calculadora C# y VisualSt...</td>\n",
       "    </tr>\n",
       "    <tr>\n",
       "      <th>1</th>\n",
       "      <td>https://t.co/TuK7wRElOo</td>\n",
       "    </tr>\n",
       "    <tr>\n",
       "      <th>2</th>\n",
       "      <td>Just Eat Takeaway adquiere Grubhub por 7.300 m...</td>\n",
       "    </tr>\n",
       "    <tr>\n",
       "      <th>3</th>\n",
       "      <td>Love Rosie https://t.co/VRCUoTpCbM</td>\n",
       "    </tr>\n",
       "    <tr>\n",
       "      <th>4</th>\n",
       "      <td>Diferencias entre el Google Chromecast y el Ch...</td>\n",
       "    </tr>\n",
       "    <tr>\n",
       "      <th>5</th>\n",
       "      <td>https://t.co/RCWhzazhef</td>\n",
       "    </tr>\n",
       "    <tr>\n",
       "      <th>6</th>\n",
       "      <td>El explorador, marino e investigador francés J...</td>\n",
       "    </tr>\n",
       "    <tr>\n",
       "      <th>7</th>\n",
       "      <td>https://t.co/E2UGrHl1o1</td>\n",
       "    </tr>\n",
       "    <tr>\n",
       "      <th>8</th>\n",
       "      <td>https://t.co/M5P0Ct1MKz</td>\n",
       "    </tr>\n",
       "    <tr>\n",
       "      <th>9</th>\n",
       "      <td>https://t.co/GX1D4nOklW</td>\n",
       "    </tr>\n",
       "  </tbody>\n",
       "</table>\n",
       "</div>"
      ],
      "text/plain": [
       "                                              Tweets\n",
       "0  #Código de #CSharp - Calculadora C# y VisualSt...\n",
       "1                            https://t.co/TuK7wRElOo\n",
       "2  Just Eat Takeaway adquiere Grubhub por 7.300 m...\n",
       "3                 Love Rosie https://t.co/VRCUoTpCbM\n",
       "4  Diferencias entre el Google Chromecast y el Ch...\n",
       "5                            https://t.co/RCWhzazhef\n",
       "6  El explorador, marino e investigador francés J...\n",
       "7                            https://t.co/E2UGrHl1o1\n",
       "8                            https://t.co/M5P0Ct1MKz\n",
       "9                            https://t.co/GX1D4nOklW"
      ]
     },
     "execution_count": 10,
     "metadata": {},
     "output_type": "execute_result"
    }
   ],
   "source": [
    "arrTweets = numpy.array(tweets)\n",
    "dfTweets = pd.DataFrame(arrTweets, columns=['Tweets'])\n",
    "dfTweets"
   ]
  },
  {
   "cell_type": "code",
   "execution_count": 11,
   "metadata": {},
   "outputs": [],
   "source": [
    "#Guardamos tweets\n",
    "#compression_opts = dict(method='zip',\n",
    " #                       archive_name='outF5.txt')\n",
    "\n",
    "#dfTweets.to_csv('outF5.zip', index=False,\n",
    " #         compression=compression_opts)"
   ]
  },
  {
   "cell_type": "code",
   "execution_count": null,
   "metadata": {},
   "outputs": [],
   "source": []
  }
 ],
 "metadata": {
  "kernelspec": {
   "display_name": "Python 3",
   "language": "python",
   "name": "python3"
  },
  "language_info": {
   "codemirror_mode": {
    "name": "ipython",
    "version": 3
   },
   "file_extension": ".py",
   "mimetype": "text/x-python",
   "name": "python",
   "nbconvert_exporter": "python",
   "pygments_lexer": "ipython3",
   "version": "3.7.6"
  }
 },
 "nbformat": 4,
 "nbformat_minor": 4
}
