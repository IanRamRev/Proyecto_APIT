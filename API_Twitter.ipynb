{
 "cells": [
  {
   "cell_type": "markdown",
   "metadata": {},
   "source": [
    "http://docs.tweepy.org/en/latest/getting_started.html\n",
    "https://developer.twitter.com/en/apps/17883942"
   ]
  },
  {
   "cell_type": "code",
   "execution_count": 1,
   "metadata": {},
   "outputs": [],
   "source": [
    "import json \n",
    "import tweepy\n",
    "import pandas as pd\n",
    "import numpy\n",
    "import csv"
   ]
  },
  {
   "cell_type": "code",
   "execution_count": 2,
   "metadata": {},
   "outputs": [],
   "source": [
    "#Autenticación\n",
    "\n",
    "auth = tweepy.OAuthHandler(consumer_key, consumer_secret)\n",
    "auth.set_access_token(access_token, access_token_secret)\n",
    "\n",
    "#Se realizan todas las llamadas a la app de Twitter\n",
    "#api = tweepy.API(auth, wait_on_rate_limit = True, wait_on_rate_limit_notify = True)\n",
    "api = tweepy.API(auth, \n",
    "                 wait_on_rate_limit=True, \n",
    "                 wait_on_rate_limit_notify=True)"
   ]
  },
  {
   "cell_type": "code",
   "execution_count": 8,
   "metadata": {},
   "outputs": [],
   "source": [
    "tweets = []\n",
    "i = 0\n",
    "for tweet in tweepy.Cursor(api.home_timeline, tweet_mode='extended').items(10):\n",
    "    text = tweet.retweeted_status.full_text if tweet.full_text.startswith(\"RT @\") else tweet.full_text\n",
    "    if len(text) > 0:\n",
    "        tweets.append(text)\n",
    "    i += 1\n",
    "\n",
    "len(\"Total\"tweets)\n",
    "p"
   ]
  },
  {
   "cell_type": "code",
   "execution_count": 4,
   "metadata": {},
   "outputs": [
    {
     "data": {
      "text/plain": [
       "762"
      ]
     },
     "execution_count": 4,
     "metadata": {},
     "output_type": "execute_result"
    }
   ],
   "source": []
  },
  {
   "cell_type": "code",
   "execution_count": 5,
   "metadata": {},
   "outputs": [
    {
     "data": {
      "text/html": [
       "<div>\n",
       "<style scoped>\n",
       "    .dataframe tbody tr th:only-of-type {\n",
       "        vertical-align: middle;\n",
       "    }\n",
       "\n",
       "    .dataframe tbody tr th {\n",
       "        vertical-align: top;\n",
       "    }\n",
       "\n",
       "    .dataframe thead th {\n",
       "        text-align: right;\n",
       "    }\n",
       "</style>\n",
       "<table border=\"1\" class=\"dataframe\">\n",
       "  <thead>\n",
       "    <tr style=\"text-align: right;\">\n",
       "      <th></th>\n",
       "      <th>Tweets</th>\n",
       "    </tr>\n",
       "  </thead>\n",
       "  <tbody>\n",
       "    <tr>\n",
       "      <th>0</th>\n",
       "      <td>#Noticia - Google Play Store ha ofertado duran...</td>\n",
       "    </tr>\n",
       "    <tr>\n",
       "      <th>1</th>\n",
       "      <td>ya era hora 😋 https://t.co/XoLti7WOBX</td>\n",
       "    </tr>\n",
       "    <tr>\n",
       "      <th>2</th>\n",
       "      <td>aborreces el mundo. pero el fracaso del mundo ...</td>\n",
       "    </tr>\n",
       "    <tr>\n",
       "      <th>3</th>\n",
       "      <td>Desmantelan en Barcelona un entramado que ofre...</td>\n",
       "    </tr>\n",
       "    <tr>\n",
       "      <th>4</th>\n",
       "      <td>El exdirigente de la CNOP, Jesús García Castro...</td>\n",
       "    </tr>\n",
       "    <tr>\n",
       "      <th>...</th>\n",
       "      <td>...</td>\n",
       "    </tr>\n",
       "    <tr>\n",
       "      <th>757</th>\n",
       "      <td>Minotaur #symbolism #williamblake https://t.co...</td>\n",
       "    </tr>\n",
       "    <tr>\n",
       "      <th>758</th>\n",
       "      <td>Estoy tan concha escribiendo mi nonsense de la...</td>\n",
       "    </tr>\n",
       "    <tr>\n",
       "      <th>759</th>\n",
       "      <td>El tocayo sufridor... https://t.co/BVQll9KSyb</td>\n",
       "    </tr>\n",
       "    <tr>\n",
       "      <th>760</th>\n",
       "      <td>NO NOS TOQUEN QUE ANDAMOS🔥🔥🔥 \\n\\n#LaFranjaQueN...</td>\n",
       "    </tr>\n",
       "    <tr>\n",
       "      <th>761</th>\n",
       "      <td>Mi abuela me dijo que ''el mejor regalo es ten...</td>\n",
       "    </tr>\n",
       "  </tbody>\n",
       "</table>\n",
       "<p>762 rows × 1 columns</p>\n",
       "</div>"
      ],
      "text/plain": [
       "                                                Tweets\n",
       "0    #Noticia - Google Play Store ha ofertado duran...\n",
       "1                ya era hora 😋 https://t.co/XoLti7WOBX\n",
       "2    aborreces el mundo. pero el fracaso del mundo ...\n",
       "3    Desmantelan en Barcelona un entramado que ofre...\n",
       "4    El exdirigente de la CNOP, Jesús García Castro...\n",
       "..                                                 ...\n",
       "757  Minotaur #symbolism #williamblake https://t.co...\n",
       "758  Estoy tan concha escribiendo mi nonsense de la...\n",
       "759      El tocayo sufridor... https://t.co/BVQll9KSyb\n",
       "760  NO NOS TOQUEN QUE ANDAMOS🔥🔥🔥 \\n\\n#LaFranjaQueN...\n",
       "761  Mi abuela me dijo que ''el mejor regalo es ten...\n",
       "\n",
       "[762 rows x 1 columns]"
      ]
     },
     "execution_count": 5,
     "metadata": {},
     "output_type": "execute_result"
    }
   ],
   "source": [
    "arrTweets = numpy.array(tweets)\n",
    "dfTweets = pd.DataFrame(arrTweets, columns=['Tweets'])\n",
    "dfTweets"
   ]
  },
  {
   "cell_type": "code",
   "execution_count": 6,
   "metadata": {},
   "outputs": [],
   "source": [
    "compression_opts = dict(method='zip',\n",
    "                        archive_name='outF5.txt')\n",
    "\n",
    "dfTweets.to_csv('outF5.zip', index=False,\n",
    "          compression=compression_opts)"
   ]
  },
  {
   "cell_type": "code",
   "execution_count": null,
   "metadata": {},
   "outputs": [],
   "source": []
  }
 ],
 "metadata": {
  "kernelspec": {
   "display_name": "Python 3",
   "language": "python",
   "name": "python3"
  },
  "language_info": {
   "codemirror_mode": {
    "name": "ipython",
    "version": 3
   },
   "file_extension": ".py",
   "mimetype": "text/x-python",
   "name": "python",
   "nbconvert_exporter": "python",
   "pygments_lexer": "ipython3",
   "version": "3.7.6"
  }
 },
 "nbformat": 4,
 "nbformat_minor": 4
}
