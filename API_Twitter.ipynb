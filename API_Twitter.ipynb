{
 "cells": [
  {
   "cell_type": "markdown",
   "metadata": {},
   "source": [
    "http://docs.tweepy.org/en/latest/getting_started.html\n",
    "https://developer.twitter.com/en/apps/17883942"
   ]
  },
  {
   "cell_type": "code",
   "execution_count": 10,
   "metadata": {},
   "outputs": [],
   "source": [
    "import json \n",
    "import tweepy\n",
    "import pandas as pd\n",
    "import numpy\n",
    "import csv"
   ]
  },
  {
   "cell_type": "code",
   "execution_count": 11,
   "metadata": {},
   "outputs": [],
   "source": [
    "#Autenticación\n",
    "consumer_key = \"alUoQqWmsSXS4vt7vEY3sEqZU\"\n",
    "consumer_secret = \"lLC52vWIRYEouzNIl5qB5UCiwLZ4kP0gQ0cnTUgYg6eMpSrLet\"\n",
    "access_token = \"925576676-8MQL56httlNZOM30GE9JfCsJPPLsnWPtFdHX4b6z\"\n",
    "access_token_secret = \"Q4e66e7zyULfpjSQUe8k2isFkuhbPvk5klbpH81PtgurI\"\n",
    "\n",
    "\n",
    "auth = tweepy.OAuthHandler(consumer_key, consumer_secret)\n",
    "auth.set_access_token(access_token, access_token_secret)\n",
    "\n",
    "#Se realizan todas las llamadas a la app de Twitter\n",
    "#api = tweepy.API(auth, wait_on_rate_limit = True, wait_on_rate_limit_notify = True)\n",
    "api = tweepy.API(auth, \n",
    "                 wait_on_rate_limit=True, \n",
    "                 wait_on_rate_limit_notify=True)"
   ]
  },
  {
   "cell_type": "code",
   "execution_count": 12,
   "metadata": {},
   "outputs": [
    {
     "name": "stderr",
     "output_type": "stream",
     "text": [
      "Rate limit reached. Sleeping for: 610\n",
      "Rate limit reached. Sleeping for: 885\n",
      "Rate limit reached. Sleeping for: 884\n"
     ]
    }
   ],
   "source": [
    "tweets = []\n",
    "with open(\"TweetText.cvs\", \"w\") as f:\n",
    "    for tweet in tweepy.Cursor(api.home_timeline).items(750):\n",
    "            #print(tweet, file = f)\n",
    "            tweets.append(tweet.text)\n"
   ]
  },
  {
   "cell_type": "code",
   "execution_count": 26,
   "metadata": {},
   "outputs": [
    {
     "data": {
      "text/html": [
       "<div>\n",
       "<style scoped>\n",
       "    .dataframe tbody tr th:only-of-type {\n",
       "        vertical-align: middle;\n",
       "    }\n",
       "\n",
       "    .dataframe tbody tr th {\n",
       "        vertical-align: top;\n",
       "    }\n",
       "\n",
       "    .dataframe thead th {\n",
       "        text-align: right;\n",
       "    }\n",
       "</style>\n",
       "<table border=\"1\" class=\"dataframe\">\n",
       "  <thead>\n",
       "    <tr style=\"text-align: right;\">\n",
       "      <th></th>\n",
       "      <th>Tweets</th>\n",
       "    </tr>\n",
       "  </thead>\n",
       "  <tbody>\n",
       "    <tr>\n",
       "      <th>0</th>\n",
       "      <td>https://t.co/6cmSHgMXJo</td>\n",
       "    </tr>\n",
       "    <tr>\n",
       "      <th>1</th>\n",
       "      <td>RT @AkemiLook: UPDATE: I just got off a call w...</td>\n",
       "    </tr>\n",
       "    <tr>\n",
       "      <th>2</th>\n",
       "      <td>RT @AkemiLook: CALLING LA LAWYERS: LA is in de...</td>\n",
       "    </tr>\n",
       "    <tr>\n",
       "      <th>3</th>\n",
       "      <td>Pablo Guerrero Cañez, luchador social de Mexic...</td>\n",
       "    </tr>\n",
       "    <tr>\n",
       "      <th>4</th>\n",
       "      <td>Sounds like Wolvie will be getting a cool new ...</td>\n",
       "    </tr>\n",
       "    <tr>\n",
       "      <th>...</th>\n",
       "      <td>...</td>\n",
       "    </tr>\n",
       "    <tr>\n",
       "      <th>672</th>\n",
       "      <td>Baby Face https://t.co/Vp2AILGyTA</td>\n",
       "    </tr>\n",
       "    <tr>\n",
       "      <th>673</th>\n",
       "      <td>⟚ Ղ⚶▸ ̋ ᢇា឵឴┬┴┬┴┤(･_├┬┴┬┴ ͭ  ͅ ⟘≷\\n\\ny̆̆̆̆̆̆̆̆...</td>\n",
       "    </tr>\n",
       "    <tr>\n",
       "      <th>674</th>\n",
       "      <td>https://t.co/ss4PjrxFGB</td>\n",
       "    </tr>\n",
       "    <tr>\n",
       "      <th>675</th>\n",
       "      <td>https://t.co/eb6dt2R3QD</td>\n",
       "    </tr>\n",
       "    <tr>\n",
       "      <th>676</th>\n",
       "      <td>\"Pita Amor\" es tendencia porque hoy se recuerd...</td>\n",
       "    </tr>\n",
       "  </tbody>\n",
       "</table>\n",
       "<p>677 rows × 1 columns</p>\n",
       "</div>"
      ],
      "text/plain": [
       "                                                Tweets\n",
       "0                              https://t.co/6cmSHgMXJo\n",
       "1    RT @AkemiLook: UPDATE: I just got off a call w...\n",
       "2    RT @AkemiLook: CALLING LA LAWYERS: LA is in de...\n",
       "3    Pablo Guerrero Cañez, luchador social de Mexic...\n",
       "4    Sounds like Wolvie will be getting a cool new ...\n",
       "..                                                 ...\n",
       "672                  Baby Face https://t.co/Vp2AILGyTA\n",
       "673  ⟚ Ղ⚶▸ ̋ ᢇា឵឴┬┴┬┴┤(･_├┬┴┬┴ ͭ  ͅ ⟘≷\\n\\ny̆̆̆̆̆̆̆̆...\n",
       "674                            https://t.co/ss4PjrxFGB\n",
       "675                            https://t.co/eb6dt2R3QD\n",
       "676  \"Pita Amor\" es tendencia porque hoy se recuerd...\n",
       "\n",
       "[677 rows x 1 columns]"
      ]
     },
     "execution_count": 26,
     "metadata": {},
     "output_type": "execute_result"
    }
   ],
   "source": [
    "arrTweets = numpy.array(tweets)\n",
    "dfTweets = pd.DataFrame(arrTweets, columns=['Tweets'])\n",
    "dfTweets"
   ]
  },
  {
   "cell_type": "code",
   "execution_count": 33,
   "metadata": {},
   "outputs": [],
   "source": [
    "compression_opts = dict(method='zip',\n",
    "                        archive_name='out.txt')\n",
    "\n",
    "dfTweets.to_csv('out.zip', index=False,\n",
    "          compression=compression_opts)"
   ]
  },
  {
   "cell_type": "code",
   "execution_count": null,
   "metadata": {},
   "outputs": [],
   "source": []
  }
 ],
 "metadata": {
  "kernelspec": {
   "display_name": "Python 3",
   "language": "python",
   "name": "python3"
  },
  "language_info": {
   "codemirror_mode": {
    "name": "ipython",
    "version": 3
   },
   "file_extension": ".py",
   "mimetype": "text/x-python",
   "name": "python",
   "nbconvert_exporter": "python",
   "pygments_lexer": "ipython3",
   "version": "3.7.6"
  }
 },
 "nbformat": 4,
 "nbformat_minor": 4
}
