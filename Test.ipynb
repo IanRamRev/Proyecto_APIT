{
 "cells": [
  {
   "cell_type": "code",
   "execution_count": 99,
   "metadata": {},
   "outputs": [],
   "source": [
    "#General\n",
    "import numpy\n",
    "import pandas \n",
    "import csv\n",
    "import re\n",
    "import nltk\n",
    "import json\n",
    "import nltk\n",
    "from gensim import models\n",
    "import matplotlib.pyplot as plt\n",
    "import matplotlib\n",
    "import seaborn as sns\n",
    "import itertools\n",
    "\n",
    "#Análisis de sentimientos\n",
    "from textblob import TextBlob\n",
    "from vaderSentiment.vaderSentiment import SentimentIntensityAnalyzer\n",
    "\n",
    "#Clasificador\n",
    "from sklearn import svm\n",
    "from sklearn.metrics import confusion_matrix\n",
    "from sklearn.metrics import ConfusionMatrixDisplay\n"
   ]
  },
  {
   "cell_type": "markdown",
   "metadata": {},
   "source": [
    "### Función auxiliar que elimina los enlaces incluidos en el tweet y que elimina los tweets que no tengan ningún caracter"
   ]
  },
  {
   "cell_type": "code",
   "execution_count": 48,
   "metadata": {},
   "outputs": [],
   "source": [
    "def limpiaTweet(df):\n",
    "    listTweets = df.Tweets.values.tolist()\n",
    "    pattern = re.compile('https?://(?:[-\\w./]|(?:%\\da-fA-F{2}))+')\n",
    "    cleanTweets =[]\n",
    "    \n",
    "    for tweet in listTweets:\n",
    "        res = re.findall(pattern, tweet)\n",
    "        if (len(res) != 0):\n",
    "            aux = tweet.replace(res[0], '')\n",
    "            cleanTweets.append(aux)\n",
    "        else:\n",
    "            cleanTweets.append(tweet)\n",
    "            \n",
    "    for tweet in cleanTweets:\n",
    "        if(len(tweet) == 0):\n",
    "            cleanTweets.remove(tweet)\n",
    "    \n",
    "    return numpy.asarray(cleanTweets)"
   ]
  },
  {
   "cell_type": "markdown",
   "metadata": {},
   "source": [
    "## Actualización del lexicon de vadeSentiment"
   ]
  },
  {
   "cell_type": "code",
   "execution_count": 53,
   "metadata": {},
   "outputs": [
    {
     "name": "stdout",
     "output_type": "stream",
     "text": [
      "<class 'pandas.core.frame.DataFrame'>\n",
      "RangeIndex: 2037 entries, 0 to 2036\n",
      "Data columns (total 2 columns):\n",
      " #   Column   Non-Null Count  Dtype \n",
      "---  ------   --------------  ----- \n",
      " 0   Palabra  2037 non-null   object\n",
      " 1   PFA      2037 non-null   object\n",
      "dtypes: object(2)\n",
      "memory usage: 32.0+ KB\n",
      "\n",
      "Total de palabras del lexicon en español =  1909\n"
     ]
    }
   ],
   "source": [
    "lexicon = pandas.read_csv('SEL/SEL_UTF8.txt', sep='\\t', names=['Palabra', 'PFA', 'Categoría'])\n",
    "lexicon.drop(['Categoría'], axis='columns', inplace=True)\n",
    "lexicon.info()\n",
    "\n",
    "Palabras = numpy.array(lexicon.Palabra)\n",
    "PFA = numpy.array(lexicon.PFA)\n",
    "\n",
    "lista = []\n",
    "for i in range(1, len(Palabras)):\n",
    "    lista.append([Palabras[i], float(PFA[i])])\n",
    "    \n",
    "lexi = {a : b for a,b in lista}\n",
    "print(\"\\nTotal de palabras del lexicon en español = \", len(lexi))"
   ]
  },
  {
   "cell_type": "code",
   "execution_count": 54,
   "metadata": {},
   "outputs": [],
   "source": [
    "SIA = SentimentIntensityAnalyzer()\n",
    "SIA.lexicon.update(lexi)"
   ]
  },
  {
   "cell_type": "markdown",
   "metadata": {},
   "source": [
    "## Clasificador de tópicos (SVM)"
   ]
  },
  {
   "cell_type": "code",
   "execution_count": 56,
   "metadata": {},
   "outputs": [],
   "source": [
    "stop_words = get_stop_words('spanish')"
   ]
  },
  {
   "cell_type": "code",
   "execution_count": 58,
   "metadata": {},
   "outputs": [
    {
     "name": "stdout",
     "output_type": "stream",
     "text": [
      "<class 'pandas.core.frame.DataFrame'>\n",
      "Int64Index: 3926 entries, 0 to 7854\n",
      "Data columns (total 2 columns):\n",
      " #   Column   Non-Null Count  Dtype \n",
      "---  ------   --------------  ----- \n",
      " 0   Titular  3926 non-null   object\n",
      " 1   Tópico   3926 non-null   object\n",
      "dtypes: object(2)\n",
      "memory usage: 92.0+ KB\n"
     ]
    }
   ],
   "source": [
    "nombres = ['Titular', 'Tópico']\n",
    "dataTrain = pandas.read_csv('.//TitularesTrain//titulares.csv', names=nombres)\n",
    "dataTrain = dataTrain.dropna()\n",
    "dataTrain.info()\n",
    "\n",
    "Y = dataTrain.Tópico.values.tolist()\n",
    "X = dataTrain.Titular.values.tolist()\n",
    "\n",
    "x_train, X_test, y_train, y_test = train_test_split(X, Y, test_size=0.2, random_state=100)"
   ]
  },
  {
   "cell_type": "code",
   "execution_count": 60,
   "metadata": {},
   "outputs": [
    {
     "name": "stdout",
     "output_type": "stream",
     "text": [
      "Dim matriz TF-IDF (3140, 2390)\n",
      "Tam y =  3140\n"
     ]
    }
   ],
   "source": [
    "vectorizer = TfidfVectorizer(stop_words = stop_words, ngram_range = (1,2), min_df = 3)\n",
    "X_ = vectorizer.fit_transform(x_train)\n",
    "\n",
    "print(\"Dim matriz TF-IDF\", X_.shape)\n",
    "print(\"Tam y = \", len(y_trainTFIDF))"
   ]
  },
  {
   "cell_type": "code",
   "execution_count": 61,
   "metadata": {},
   "outputs": [
    {
     "data": {
      "text/plain": [
       "SVC(C=1.0, break_ties=False, cache_size=200, class_weight=None, coef0=0.0,\n",
       "    decision_function_shape='ovr', degree=3, gamma='scale', kernel='rbf',\n",
       "    max_iter=-1, probability=False, random_state=None, shrinking=True,\n",
       "    tol=0.001, verbose=False)"
      ]
     },
     "execution_count": 61,
     "metadata": {},
     "output_type": "execute_result"
    }
   ],
   "source": [
    "clfSVM = svm.SVC()\n",
    "clfSVM.fit(X_, y_train)"
   ]
  },
  {
   "cell_type": "code",
   "execution_count": 63,
   "metadata": {},
   "outputs": [
    {
     "name": "stdout",
     "output_type": "stream",
     "text": [
      "accuracy score 0.852\n"
     ]
    }
   ],
   "source": [
    "X_TFIDF = vectorizer.transform(X_test)\n",
    "predSVM = clfSVM.predict(X_TFIDF)\n",
    "print('accuracy score %0.3f' % clfSVM.score(X_TFIDF, y_test))"
   ]
  },
  {
   "cell_type": "markdown",
   "metadata": {},
   "source": [
    "## Prueba de tweets"
   ]
  },
  {
   "cell_type": "code",
   "execution_count": 64,
   "metadata": {},
   "outputs": [
    {
     "name": "stdout",
     "output_type": "stream",
     "text": [
      "<class 'pandas.core.frame.DataFrame'>\n",
      "Int64Index: 3620 entries, 0 to 3619\n",
      "Data columns (total 1 columns):\n",
      " #   Column  Non-Null Count  Dtype \n",
      "---  ------  --------------  ----- \n",
      " 0   Tweets  3620 non-null   object\n",
      "dtypes: object(1)\n",
      "memory usage: 56.6+ KB\n"
     ]
    },
    {
     "data": {
      "text/html": [
       "<div>\n",
       "<style scoped>\n",
       "    .dataframe tbody tr th:only-of-type {\n",
       "        vertical-align: middle;\n",
       "    }\n",
       "\n",
       "    .dataframe tbody tr th {\n",
       "        vertical-align: top;\n",
       "    }\n",
       "\n",
       "    .dataframe thead th {\n",
       "        text-align: right;\n",
       "    }\n",
       "</style>\n",
       "<table border=\"1\" class=\"dataframe\">\n",
       "  <thead>\n",
       "    <tr style=\"text-align: right;\">\n",
       "      <th></th>\n",
       "      <th>Tweets</th>\n",
       "    </tr>\n",
       "  </thead>\n",
       "  <tbody>\n",
       "    <tr>\n",
       "      <th>0</th>\n",
       "      <td>Mensaje importante sobre el Covid-19 hoy lunes...</td>\n",
       "    </tr>\n",
       "    <tr>\n",
       "      <th>1</th>\n",
       "      <td>Cada vez que usan la palabra whitexican un idi...</td>\n",
       "    </tr>\n",
       "    <tr>\n",
       "      <th>2</th>\n",
       "      <td>#ÚltimaHora México inicia 'nueva normalidad' s...</td>\n",
       "    </tr>\n",
       "    <tr>\n",
       "      <th>3</th>\n",
       "      <td>Conferencia de Prensa Covid-19. 1 de junio de ...</td>\n",
       "    </tr>\n",
       "    <tr>\n",
       "      <th>4</th>\n",
       "      <td>Mensaje importante de la #4T https://t.co/lRkE...</td>\n",
       "    </tr>\n",
       "    <tr>\n",
       "      <th>...</th>\n",
       "      <td>...</td>\n",
       "    </tr>\n",
       "    <tr>\n",
       "      <th>3615</th>\n",
       "      <td>Minotaur #symbolism #williamblake https://t.co...</td>\n",
       "    </tr>\n",
       "    <tr>\n",
       "      <th>3616</th>\n",
       "      <td>Estoy tan concha escribiendo mi nonsense de la...</td>\n",
       "    </tr>\n",
       "    <tr>\n",
       "      <th>3617</th>\n",
       "      <td>El tocayo sufridor... https://t.co/BVQll9KSyb</td>\n",
       "    </tr>\n",
       "    <tr>\n",
       "      <th>3618</th>\n",
       "      <td>NO NOS TOQUEN QUE ANDAMOS🔥🔥🔥 \\n\\n#LaFranjaQueN...</td>\n",
       "    </tr>\n",
       "    <tr>\n",
       "      <th>3619</th>\n",
       "      <td>Mi abuela me dijo que ''el mejor regalo es ten...</td>\n",
       "    </tr>\n",
       "  </tbody>\n",
       "</table>\n",
       "<p>3620 rows × 1 columns</p>\n",
       "</div>"
      ],
      "text/plain": [
       "                                                 Tweets\n",
       "0     Mensaje importante sobre el Covid-19 hoy lunes...\n",
       "1     Cada vez que usan la palabra whitexican un idi...\n",
       "2     #ÚltimaHora México inicia 'nueva normalidad' s...\n",
       "3     Conferencia de Prensa Covid-19. 1 de junio de ...\n",
       "4     Mensaje importante de la #4T https://t.co/lRkE...\n",
       "...                                                 ...\n",
       "3615  Minotaur #symbolism #williamblake https://t.co...\n",
       "3616  Estoy tan concha escribiendo mi nonsense de la...\n",
       "3617      El tocayo sufridor... https://t.co/BVQll9KSyb\n",
       "3618  NO NOS TOQUEN QUE ANDAMOS🔥🔥🔥 \\n\\n#LaFranjaQueN...\n",
       "3619  Mi abuela me dijo que ''el mejor regalo es ten...\n",
       "\n",
       "[3620 rows x 1 columns]"
      ]
     },
     "execution_count": 64,
     "metadata": {},
     "output_type": "execute_result"
    }
   ],
   "source": [
    "dataTweets = pandas.read_csv(\".//TweetsTest//Tweets//Tweets_UTF8.txt\", names=['Tweets'])\n",
    "dataTweets = dataTweets.dropna()\n",
    "dataTweets.info()\n",
    "dataTweets"
   ]
  },
  {
   "cell_type": "code",
   "execution_count": 65,
   "metadata": {},
   "outputs": [
    {
     "name": "stdout",
     "output_type": "stream",
     "text": [
      "3370\n"
     ]
    }
   ],
   "source": [
    "tweets = limpiaTweet(dataTweets)\n",
    "print(len(tweets))"
   ]
  },
  {
   "cell_type": "code",
   "execution_count": 71,
   "metadata": {},
   "outputs": [
    {
     "name": "stdout",
     "output_type": "stream",
     "text": [
      "(3370, 2390)\n"
     ]
    }
   ],
   "source": [
    "Covid = []\n",
    "Tecnologia = []\n",
    "Deportes = []\n",
    "Economia =[]\n",
    "Cultura = []\n",
    "\n",
    "tweetsTFIDF = vectorizer.transform(tweets)\n",
    "print(tweetsTFIDF.shape)\n",
    "\n",
    "predTweetsTopic = clfSVM.predict(tweetsTFIDF)\n",
    "\n",
    "for i in range(len(predTweetsTopic)):\n",
    "    if predTweetsTopic[i] == 'covid':\n",
    "        Covid.append([tweets[i], predTweetsTopic[i]])\n",
    "        \n",
    "    elif predTweetsTopic[i] == 'tecnologia':\n",
    "        Tecnologia.append([tweets[i], predTweetsTopic[i]])\n",
    "        \n",
    "    elif predTweetsTopic[i] == 'deportes':\n",
    "        Deportes.append([tweets[i], predTweetsTopic[i]])\n",
    "    \n",
    "    elif predTweetsTopic[i] == 'economia':\n",
    "        Economia.append([tweets[i], predTweetsTopic[i]])\n",
    "        \n",
    "    elif predTweetsTopic[i] == 'cultura':\n",
    "        Cultura.append([tweets[i], predTweetsTopic[i]])"
   ]
  },
  {
   "cell_type": "code",
   "execution_count": 72,
   "metadata": {},
   "outputs": [
    {
     "name": "stdout",
     "output_type": "stream",
     "text": [
      "Covid =  887\n",
      "Tecnología =  56\n",
      "Deportes =  788\n",
      "Economía =  467\n",
      "Cultura =  1172\n"
     ]
    }
   ],
   "source": [
    "print(\"Covid = \", len(Covid))\n",
    "print(\"Tecnología = \", len(Tecnologia))\n",
    "print(\"Deportes = \", len(Deportes))\n",
    "print(\"Economía = \", len(Economia))\n",
    "print(\"Cultura = \", len(Cultura))"
   ]
  },
  {
   "cell_type": "code",
   "execution_count": 94,
   "metadata": {},
   "outputs": [
    {
     "data": {
      "image/png": "[encoded data removed]",
      "text/plain": [
       "<Figure size 432x288 with 1 Axes>"
      ]
     },
     "metadata": {
      "needs_background": "light"
     },
     "output_type": "display_data"
    }
   ],
   "source": [
    "names = ['Covid', 'Tecnología', 'Deportes', 'Economía', 'Cultura']\n",
    "values = [len(Covid), len(Tecnologia), len(Deportes), len(Economia), len(Cultura)]\n",
    "\n",
    "\n",
    "plt.bar(names, values)\n",
    "plt.show()"
   ]
  },
  {
   "cell_type": "code",
   "execution_count": 85,
   "metadata": {},
   "outputs": [],
   "source": [
    "def polaridadTweetsTopic(listaTweets):\n",
    "    Pos, Neg, Neu = 0,0,0\n",
    "    for i in range(len(listaTweets)):\n",
    "        tweet = listaTweets[i][0]\n",
    "        vs = SIA.polarity_scores(tweet)\n",
    "        auxArr = numpy.split(numpy.asarray(list(vs.items())).T, 2)\n",
    "        values = numpy.asarray(auxArr[1], dtype =float).flatten()\n",
    "        compound = values[3]\n",
    "\n",
    "        if(compound >= 0.05):\n",
    "            Pos += 1\n",
    "        if(compound <= -0.05):\n",
    "            Neg += 1\n",
    "        if (compound > -0.05 and compound < 0.05):\n",
    "            Neu += 1\n",
    "            \n",
    "    return [Pos, Neg, Neu]"
   ]
  },
  {
   "cell_type": "code",
   "execution_count": 105,
   "metadata": {},
   "outputs": [
    {
     "name": "stdout",
     "output_type": "stream",
     "text": [
      "[239, 155, 493]\n"
     ]
    }
   ],
   "source": [
    "resCovid = polaridadTweetsTopic(Covid)\n",
    "print(resCovid)"
   ]
  },
  {
   "cell_type": "code",
   "execution_count": 106,
   "metadata": {},
   "outputs": [
    {
     "name": "stdout",
     "output_type": "stream",
     "text": [
      "[13, 6, 37]\n"
     ]
    }
   ],
   "source": [
    "resTecn = polaridadTweetsTopic(Tecnologia)\n",
    "print(resTecn)"
   ]
  },
  {
   "cell_type": "code",
   "execution_count": 107,
   "metadata": {},
   "outputs": [
    {
     "name": "stdout",
     "output_type": "stream",
     "text": [
      "[210, 163, 415]\n"
     ]
    }
   ],
   "source": [
    "resDep = polaridadTweetsTopic(Deportes)\n",
    "print(resDep)"
   ]
  },
  {
   "cell_type": "code",
   "execution_count": 108,
   "metadata": {},
   "outputs": [
    {
     "name": "stdout",
     "output_type": "stream",
     "text": [
      "[154, 91, 222]\n"
     ]
    }
   ],
   "source": [
    "resEcon = polaridadTweetsTopic(Economia)\n",
    "print(resEcon)"
   ]
  },
  {
   "cell_type": "code",
   "execution_count": 109,
   "metadata": {},
   "outputs": [
    {
     "name": "stdout",
     "output_type": "stream",
     "text": [
      "[317, 173, 682]\n"
     ]
    }
   ],
   "source": [
    "resCult = polaridadTweetsTopic(Cultura)\n",
    "print(resCult)"
   ]
  },
  {
   "cell_type": "code",
   "execution_count": 122,
   "metadata": {},
   "outputs": [
    {
     "data": {
      "image/png": "[encoded data removed]",
      "text/plain": [
       "<Figure size 432x288 with 1 Axes>"
      ]
     },
     "metadata": {
      "needs_background": "light"
     },
     "output_type": "display_data"
    }
   ],
   "source": [
    "df = pandas.DataFrame([['Positivo','Covid',resCovid[0]],['Negativo','Covid',resCovid[1]],['Neutral','Covid',resCovid[2]],\n",
    "                   ['Positivo','Tecnología',resTecn[0]],['Negativo','Tecnología',resTecn[1]],['Neutral','Tecnología',resTecn[2]],\n",
    "                   ['Positivo','Deportes',resDep[0]],['Negativo','Deportes',resDep[1]],['Neutral','Deportes',resDep[2]],\n",
    "                   ['Positivo','Economía',resEcon[0]],['Negativo','Economía',resEcon[1]],['Neutral','Economía',resDep[2]],\n",
    "                   ['Positivo','Cultura',resCult[0]],['Negativo','Cultura',resCult[1]],['Neutral','Cultura',resCult[2]]],\n",
    "                  columns=['Polaridad','Tópico','val'])\n",
    "\n",
    "\n",
    "df.pivot(\"Tópico\", \"Polaridad\", \"val\").plot(kind='bar')\n",
    "plt.show()"
   ]
  },
  {
   "cell_type": "code",
   "execution_count": null,
   "metadata": {},
   "outputs": [],
   "source": []
  }
 ],
 "metadata": {
  "kernelspec": {
   "display_name": "Python 3",
   "language": "python",
   "name": "python3"
  },
  "language_info": {
   "codemirror_mode": {
    "name": "ipython",
    "version": 3
   },
   "file_extension": ".py",
   "mimetype": "text/x-python",
   "name": "python",
   "nbconvert_exporter": "python",
   "pygments_lexer": "ipython3",
   "version": "3.7.6"
  }
 },
 "nbformat": 4,
 "nbformat_minor": 4
}
