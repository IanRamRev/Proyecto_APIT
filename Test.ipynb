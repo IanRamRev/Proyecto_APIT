{
 "cells": [
  {
   "cell_type": "code",
   "execution_count": 9,
   "metadata": {},
   "outputs": [],
   "source": [
    "import numpy\n",
    "import pandas \n",
    "import csv\n",
    "import re\n",
    "import nltk\n",
    "import json\n",
    "\n",
    "\n",
    "#Análisis de sentimientos\n",
    "from textblob import TextBlob\n",
    "from vaderSentiment.vaderSentiment import SentimentIntensityAnalyzer"
   ]
  },
  {
   "cell_type": "markdown",
   "metadata": {},
   "source": [
    "### Función auxiliar que elimina los enlaces incluidos en el tweet y que elimina los tweets que no tengan ningún caracter"
   ]
  },
  {
   "cell_type": "code",
   "execution_count": 10,
   "metadata": {},
   "outputs": [],
   "source": [
    "def limpiaTweet(df):\n",
    "    listTweets = df.Tweets.values.tolist()\n",
    "    pattern = re.compile('https?://(?:[-\\w./]|(?:%\\da-fA-F{2}))+')\n",
    "    cleanTweets =[]\n",
    "    \n",
    "    for tweet in listTweets:\n",
    "        res = re.findall(pattern, tweet)\n",
    "        if (len(res) != 0):\n",
    "            aux = tweet.replace(res[0], '')\n",
    "            cleanTweets.append(aux)\n",
    "        else:\n",
    "            cleanTweets.append(tweet)\n",
    "            \n",
    "    for tweet in cleanTweets:\n",
    "        if(len(tweet) == 0):\n",
    "            cleanTweets.remove(tweet)\n",
    "    \n",
    "    return numpy.asarray(cleanTweets)"
   ]
  },
  {
   "cell_type": "code",
   "execution_count": 12,
   "metadata": {},
   "outputs": [
    {
     "name": "stdout",
     "output_type": "stream",
     "text": [
      "<class 'pandas.core.frame.DataFrame'>\n",
      "RangeIndex: 2037 entries, 0 to 2036\n",
      "Data columns (total 2 columns):\n",
      " #   Column   Non-Null Count  Dtype \n",
      "---  ------   --------------  ----- \n",
      " 0   Palabra  2037 non-null   object\n",
      " 1   PFA      2037 non-null   object\n",
      "dtypes: object(2)\n",
      "memory usage: 32.0+ KB\n",
      "<class 'pandas.core.frame.DataFrame'>\n",
      "Int64Index: 989 entries, 0 to 1976\n",
      "Data columns (total 2 columns):\n",
      " #   Column     Non-Null Count  Dtype \n",
      "---  ------     --------------  ----- \n",
      " 0   Tweet      989 non-null    object\n",
      " 1   Polaridad  989 non-null    object\n",
      "dtypes: object(2)\n",
      "memory usage: 23.2+ KB\n",
      "Tweets totales =  896\n",
      "Positivos =  312 Negativos =  505 Neutrales =  79\n",
      "896\n",
      "297\n",
      "896\n",
      "896\n",
      "Alfabeto Covid =  2261\n",
      "Alfabeto Tecnología =  534\n",
      "Alfabeto Deportes =  2447\n",
      "Alfabeto Economía =  1988\n",
      "Alfabeto Cultura =  1249\n",
      "PCovid =  0.2 PTecn =  0.2 PDep =  0.2 PEcon =  0.2 PCult =  0.2\n",
      "1178\n",
      "1178\n",
      "<class 'pandas.core.frame.DataFrame'>\n",
      "Int64Index: 678 entries, 0 to 677\n",
      "Data columns (total 1 columns):\n",
      " #   Column  Non-Null Count  Dtype \n",
      "---  ------  --------------  ----- \n",
      " 0   Tweets  678 non-null    object\n",
      "dtypes: object(1)\n",
      "memory usage: 10.6+ KB\n",
      "622\n",
      "Covid =  29\n",
      "Tecnología =  3\n",
      "Deportes =  2\n",
      "Economía =  0\n",
      "Cultura =  588\n"
     ]
    }
   ],
   "source": [
    "%run \"Análisis_sentimientos.ipynb\"\n",
    "%run \"Clasificador de topicos.ipynb\""
   ]
  },
  {
   "cell_type": "code",
   "execution_count": 13,
   "metadata": {},
   "outputs": [
    {
     "name": "stdout",
     "output_type": "stream",
     "text": [
      "<class 'pandas.core.frame.DataFrame'>\n",
      "Int64Index: 3627 entries, 0 to 3626\n",
      "Data columns (total 1 columns):\n",
      " #   Column  Non-Null Count  Dtype \n",
      "---  ------  --------------  ----- \n",
      " 0   Tweets  3627 non-null   object\n",
      "dtypes: object(1)\n",
      "memory usage: 56.7+ KB\n"
     ]
    },
    {
     "data": {
      "text/html": [
       "<div>\n",
       "<style scoped>\n",
       "    .dataframe tbody tr th:only-of-type {\n",
       "        vertical-align: middle;\n",
       "    }\n",
       "\n",
       "    .dataframe tbody tr th {\n",
       "        vertical-align: top;\n",
       "    }\n",
       "\n",
       "    .dataframe thead th {\n",
       "        text-align: right;\n",
       "    }\n",
       "</style>\n",
       "<table border=\"1\" class=\"dataframe\">\n",
       "  <thead>\n",
       "    <tr style=\"text-align: right;\">\n",
       "      <th></th>\n",
       "      <th>Tweets</th>\n",
       "    </tr>\n",
       "  </thead>\n",
       "  <tbody>\n",
       "    <tr>\n",
       "      <th>0</th>\n",
       "      <td>https://t.co/6cmSHgMXJo</td>\n",
       "    </tr>\n",
       "    <tr>\n",
       "      <th>1</th>\n",
       "      <td>RT @AkemiLook: UPDATE: I just got off a call w...</td>\n",
       "    </tr>\n",
       "    <tr>\n",
       "      <th>2</th>\n",
       "      <td>RT @AkemiLook: CALLING LA LAWYERS: LA is in de...</td>\n",
       "    </tr>\n",
       "    <tr>\n",
       "      <th>3</th>\n",
       "      <td>Pablo Guerrero Cañez, luchador social de Mexic...</td>\n",
       "    </tr>\n",
       "    <tr>\n",
       "      <th>4</th>\n",
       "      <td>Sounds like Wolvie will be getting a cool new ...</td>\n",
       "    </tr>\n",
       "    <tr>\n",
       "      <th>...</th>\n",
       "      <td>...</td>\n",
       "    </tr>\n",
       "    <tr>\n",
       "      <th>3622</th>\n",
       "      <td>#UnDíaComoHoy de 1944 nació @javierbatiz 🎸, co...</td>\n",
       "    </tr>\n",
       "    <tr>\n",
       "      <th>3623</th>\n",
       "      <td>Disfruta de la segunda función del día en #Cin...</td>\n",
       "    </tr>\n",
       "    <tr>\n",
       "      <th>3624</th>\n",
       "      <td>https://t.co/S6YsgSGUnO</td>\n",
       "    </tr>\n",
       "    <tr>\n",
       "      <th>3625</th>\n",
       "      <td>#NuestroCineMx es una muestra cinematográfica ...</td>\n",
       "    </tr>\n",
       "    <tr>\n",
       "      <th>3626</th>\n",
       "      <td>#Opinión ¿Cómo llamar la atención de los lecto...</td>\n",
       "    </tr>\n",
       "  </tbody>\n",
       "</table>\n",
       "<p>3627 rows × 1 columns</p>\n",
       "</div>"
      ],
      "text/plain": [
       "                                                 Tweets\n",
       "0                               https://t.co/6cmSHgMXJo\n",
       "1     RT @AkemiLook: UPDATE: I just got off a call w...\n",
       "2     RT @AkemiLook: CALLING LA LAWYERS: LA is in de...\n",
       "3     Pablo Guerrero Cañez, luchador social de Mexic...\n",
       "4     Sounds like Wolvie will be getting a cool new ...\n",
       "...                                                 ...\n",
       "3622  #UnDíaComoHoy de 1944 nació @javierbatiz 🎸, co...\n",
       "3623  Disfruta de la segunda función del día en #Cin...\n",
       "3624                            https://t.co/S6YsgSGUnO\n",
       "3625  #NuestroCineMx es una muestra cinematográfica ...\n",
       "3626  #Opinión ¿Cómo llamar la atención de los lecto...\n",
       "\n",
       "[3627 rows x 1 columns]"
      ]
     },
     "execution_count": 13,
     "metadata": {},
     "output_type": "execute_result"
    }
   ],
   "source": [
    "dataTweets = pandas.read_csv(\".//TweetsTest//FinalUTF8.txt\", names=['Tweets'])\n",
    "dataTweets = dataTweets.dropna()\n",
    "dataTweets.info()\n",
    "dataTweets"
   ]
  },
  {
   "cell_type": "code",
   "execution_count": 14,
   "metadata": {},
   "outputs": [],
   "source": [
    "tweets = limpiaTweet(dataTweets)"
   ]
  },
  {
   "cell_type": "code",
   "execution_count": 15,
   "metadata": {},
   "outputs": [
    {
     "name": "stdout",
     "output_type": "stream",
     "text": [
      "3384\n"
     ]
    }
   ],
   "source": [
    "print(len(tweets))"
   ]
  },
  {
   "cell_type": "code",
   "execution_count": 16,
   "metadata": {},
   "outputs": [],
   "source": [
    "Covid = []\n",
    "Tecnologia = []\n",
    "Deportes = []\n",
    "Economia =[]\n",
    "Cultura = []\n",
    "\n",
    "for tweet in tweets:\n",
    "    result = MAP(tweet, palabrasCovid, AlfabetoCovid, palabrasTecn, AlfabetoTecn, palabrasDep, AlfabetoDep, palabrasEcon, AlfabetoEcon, palabrasCult, AlfabetoCult)\n",
    "    if result == 'covid':\n",
    "        Covid.append([tweet, result])\n",
    "    if result == 'tecnologia':\n",
    "        Tecnologia.append([tweet, result])\n",
    "    if result == 'deportes':\n",
    "        Deportes.append([tweet, result])\n",
    "    if result == 'economia':\n",
    "        Economia.append([tweet, result])\n",
    "    if result == 'cultura':\n",
    "        Cultura.append([tweet, result])\n"
   ]
  },
  {
   "cell_type": "code",
   "execution_count": 17,
   "metadata": {},
   "outputs": [
    {
     "name": "stdout",
     "output_type": "stream",
     "text": [
      "Covid =  56\n",
      "Tecnología =  11\n",
      "Deportes =  8\n",
      "Economía =  10\n",
      "Cultura =  3299\n"
     ]
    }
   ],
   "source": [
    "print(\"Covid = \", len(Covid))\n",
    "print(\"Tecnología = \", len(Tecnologia))\n",
    "print(\"Deportes = \", len(Deportes))\n",
    "print(\"Economía = \", len(Economia))\n",
    "print(\"Cultura = \", len(Cultura))"
   ]
  },
  {
   "cell_type": "code",
   "execution_count": 26,
   "metadata": {},
   "outputs": [],
   "source": [
    "cov = numpy.asarray(Covid)\n",
    "tec = numpy.asarray(Tecnologia)\n",
    "dep = numpy.asarray(Deportes)\n",
    "eco = numpy.asarray(Economia)\n",
    "cul = numpy.asarray(Cultura)"
   ]
  },
  {
   "cell_type": "markdown",
   "metadata": {},
   "source": [
    "## Se evaluara mediante el análisis de sentimientos cada tópico"
   ]
  },
  {
   "cell_type": "code",
   "execution_count": 27,
   "metadata": {},
   "outputs": [
    {
     "name": "stdout",
     "output_type": "stream",
     "text": [
      "Positivos =  0 Negativos =  1 Neutros =  186\n"
     ]
    }
   ],
   "source": [
    "Pos = 0\n",
    "Neg = 0\n",
    "Neu = 0\n",
    "\n",
    "\n",
    "for i in range(len(cov)):\n",
    "    tweet = Covid[i][0]\n",
    "    vs = SIA.polarity_scores(tweet)\n",
    "    #print(vs)\n",
    "    auxArr = numpy.split(numpy.asarray(list(vs.items())).T, 2)\n",
    "    #print(auxArr)\n",
    "    values = numpy.asarray(auxArr[1], dtype =float).flatten()\n",
    "    #print(values)\n",
    "    compound = values[3]\n",
    "    #print(compound)\n",
    "\n",
    "    if(compound >= 0.05):\n",
    "        Pos += 1\n",
    "    if(compound <= -0.05):\n",
    "        Neg += 1\n",
    "    if (compound > -0.05 and compound < 0.05):\n",
    "        Neu += 1\n",
    "\n",
    "        \n",
    "print(\"Positivos = \", Pos, \"Negativos = \", Neg, \"Neutros = \", Neu)"
   ]
  },
  {
   "cell_type": "code",
   "execution_count": 28,
   "metadata": {},
   "outputs": [
    {
     "name": "stdout",
     "output_type": "stream",
     "text": [
      "Positivos =  410 Negativos =  251 Neutros =  1213\n"
     ]
    }
   ],
   "source": [
    "Pos = 0\n",
    "Neg = 0\n",
    "Neu = 0\n",
    "\n",
    "\n",
    "for i in range(len(tec)):\n",
    "    tweet = Tecnologia[i][0]\n",
    "    vs = SIA.polarity_scores(tweet)\n",
    "    #print(vs)\n",
    "    auxArr = numpy.split(numpy.asarray(list(vs.items())).T, 2)\n",
    "    #print(auxArr)\n",
    "    values = numpy.asarray(auxArr[1], dtype =float).flatten()\n",
    "    #print(values)\n",
    "    compound = values[3]\n",
    "    #print(compound)\n",
    "\n",
    "    if(compound >= 0.05):\n",
    "        Pos += 1\n",
    "    if(compound <= -0.05):\n",
    "        Neg += 1\n",
    "    if (compound > -0.05 and compound < 0.05):\n",
    "        Neu += 1\n",
    "\n",
    "        \n",
    "print(\"Positivos = \", Pos, \"Negativos = \", Neg, \"Neutros = \", Neu)"
   ]
  },
  {
   "cell_type": "code",
   "execution_count": 29,
   "metadata": {},
   "outputs": [
    {
     "name": "stdout",
     "output_type": "stream",
     "text": [
      "Positivos =  0 Negativos =  0 Neutros =  0\n"
     ]
    }
   ],
   "source": [
    "Pos = 0\n",
    "Neg = 0\n",
    "Neu = 0\n",
    "\n",
    "\n",
    "for i in range(len(dep)):\n",
    "    tweet = Deportes[i][0]\n",
    "    vs = SIA.polarity_scores(tweet)\n",
    "    #print(vs)\n",
    "    auxArr = numpy.split(numpy.asarray(list(vs.items())).T, 2)\n",
    "    #print(auxArr)\n",
    "    values = numpy.asarray(auxArr[1], dtype =float).flatten()\n",
    "    #print(values)\n",
    "    compound = values[3]\n",
    "    #print(compound)\n",
    "\n",
    "    if(compound >= 0.05):\n",
    "        Pos += 1\n",
    "    if(compound <= -0.05):\n",
    "        Neg += 1\n",
    "    if (compound > -0.05 and compound < 0.05):\n",
    "        Neu += 1\n",
    "\n",
    "        \n",
    "print(\"Positivos = \", Pos, \"Negativos = \", Neg, \"Neutros = \", Neu)"
   ]
  },
  {
   "cell_type": "code",
   "execution_count": 30,
   "metadata": {},
   "outputs": [
    {
     "name": "stdout",
     "output_type": "stream",
     "text": [
      "Positivos =  1 Negativos =  0 Neutros =  6\n"
     ]
    }
   ],
   "source": [
    "Pos = 0\n",
    "Neg = 0\n",
    "Neu = 0\n",
    "\n",
    "\n",
    "for i in range(len(eco)):\n",
    "    tweet = Economia[i][0]\n",
    "    vs = SIA.polarity_scores(tweet)\n",
    "    #print(vs)\n",
    "    auxArr = numpy.split(numpy.asarray(list(vs.items())).T, 2)\n",
    "    #print(auxArr)\n",
    "    values = numpy.asarray(auxArr[1], dtype =float).flatten()\n",
    "    #print(values)\n",
    "    compound = values[3]\n",
    "    #print(compound)\n",
    "\n",
    "    if(compound >= 0.05):\n",
    "        Pos += 1\n",
    "    if(compound <= -0.05):\n",
    "        Neg += 1\n",
    "    if (compound > -0.05 and compound < 0.05):\n",
    "        Neu += 1\n",
    "\n",
    "        \n",
    "print(\"Positivos = \", Pos, \"Negativos = \", Neg, \"Neutros = \", Neu)"
   ]
  },
  {
   "cell_type": "code",
   "execution_count": 31,
   "metadata": {},
   "outputs": [
    {
     "name": "stdout",
     "output_type": "stream",
     "text": [
      "Positivos =  10 Negativos =  2 Neutros =  25\n"
     ]
    }
   ],
   "source": [
    "Pos = 0\n",
    "Neg = 0\n",
    "Neu = 0\n",
    "\n",
    "\n",
    "for i in range(len(cul)):\n",
    "    tweet = Cultura[i][0]\n",
    "    vs = SIA.polarity_scores(tweet)\n",
    "    #print(vs)\n",
    "    auxArr = numpy.split(numpy.asarray(list(vs.items())).T, 2)\n",
    "    #print(auxArr)\n",
    "    values = numpy.asarray(auxArr[1], dtype =float).flatten()\n",
    "    #print(values)\n",
    "    compound = values[3]\n",
    "    #print(compound)\n",
    "\n",
    "    if(compound >= 0.05):\n",
    "        Pos += 1\n",
    "    if(compound <= -0.05):\n",
    "        Neg += 1\n",
    "    if (compound > -0.05 and compound < 0.05):\n",
    "        Neu += 1\n",
    "\n",
    "        \n",
    "print(\"Positivos = \", Pos, \"Negativos = \", Neg, \"Neutros = \", Neu)"
   ]
  },
  {
   "cell_type": "code",
   "execution_count": null,
   "metadata": {},
   "outputs": [],
   "source": []
  }
 ],
 "metadata": {
  "kernelspec": {
   "display_name": "Python 3",
   "language": "python",
   "name": "python3"
  },
  "language_info": {
   "codemirror_mode": {
    "name": "ipython",
    "version": 3
   },
   "file_extension": ".py",
   "mimetype": "text/x-python",
   "name": "python",
   "nbconvert_exporter": "python",
   "pygments_lexer": "ipython3",
   "version": "3.7.6"
  }
 },
 "nbformat": 4,
 "nbformat_minor": 4
}
