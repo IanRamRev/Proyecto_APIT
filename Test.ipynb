{
 "cells": [
  {
   "cell_type": "code",
   "execution_count": 1,
   "metadata": {},
   "outputs": [],
   "source": [
    "import numpy\n",
    "import pandas \n",
    "import csv\n",
    "import re\n",
    "import nltk\n",
    "\n",
    "\n",
    "#Análisis de sentimientos\n",
    "from textblob import TextBlob\n",
    "from vaderSentiment.vaderSentiment import SentimentIntensityAnalyzer\n"
   ]
  },
  {
   "cell_type": "code",
   "execution_count": 2,
   "metadata": {},
   "outputs": [
    {
     "name": "stdout",
     "output_type": "stream",
     "text": [
      "9199\n",
      "[0.00010871 0.00021741 0.00054354 ... 0.00054354 0.00010871 0.00010871]\n",
      "<class 'pandas.core.frame.DataFrame'>\n",
      "RangeIndex: 2037 entries, 0 to 2036\n",
      "Data columns (total 2 columns):\n",
      " #   Column   Non-Null Count  Dtype \n",
      "---  ------   --------------  ----- \n",
      " 0   Palabra  2037 non-null   object\n",
      " 1   PFA      2037 non-null   object\n",
      "dtypes: object(2)\n",
      "memory usage: 32.0+ KB\n"
     ]
    }
   ],
   "source": [
    "%run \"ClasificadorFunciones.ipynb\""
   ]
  },
  {
   "cell_type": "code",
   "execution_count": 3,
   "metadata": {},
   "outputs": [
    {
     "name": "stdout",
     "output_type": "stream",
     "text": [
      "<class 'pandas.core.frame.DataFrame'>\n",
      "Int64Index: 1392 entries, 0 to 1391\n",
      "Data columns (total 1 columns):\n",
      " #   Column  Non-Null Count  Dtype \n",
      "---  ------  --------------  ----- \n",
      " 0   Tweets  1392 non-null   object\n",
      "dtypes: object(1)\n",
      "memory usage: 21.8+ KB\n"
     ]
    },
    {
     "data": {
      "text/html": [
       "<div>\n",
       "<style scoped>\n",
       "    .dataframe tbody tr th:only-of-type {\n",
       "        vertical-align: middle;\n",
       "    }\n",
       "\n",
       "    .dataframe tbody tr th {\n",
       "        vertical-align: top;\n",
       "    }\n",
       "\n",
       "    .dataframe thead th {\n",
       "        text-align: right;\n",
       "    }\n",
       "</style>\n",
       "<table border=\"1\" class=\"dataframe\">\n",
       "  <thead>\n",
       "    <tr style=\"text-align: right;\">\n",
       "      <th></th>\n",
       "      <th>Tweets</th>\n",
       "    </tr>\n",
       "  </thead>\n",
       "  <tbody>\n",
       "    <tr>\n",
       "      <th>0</th>\n",
       "      <td>https://t.co/6cmSHgMXJo</td>\n",
       "    </tr>\n",
       "    <tr>\n",
       "      <th>1</th>\n",
       "      <td>RT @AkemiLook: UPDATE: I just got off a call w...</td>\n",
       "    </tr>\n",
       "    <tr>\n",
       "      <th>2</th>\n",
       "      <td>RT @AkemiLook: CALLING LA LAWYERS: LA is in de...</td>\n",
       "    </tr>\n",
       "    <tr>\n",
       "      <th>3</th>\n",
       "      <td>Pablo Guerrero Cañez, luchador social de Mexic...</td>\n",
       "    </tr>\n",
       "    <tr>\n",
       "      <th>4</th>\n",
       "      <td>Sounds like Wolvie will be getting a cool new ...</td>\n",
       "    </tr>\n",
       "    <tr>\n",
       "      <th>...</th>\n",
       "      <td>...</td>\n",
       "    </tr>\n",
       "    <tr>\n",
       "      <th>1387</th>\n",
       "      <td>¿Cuántos juegos han comprado para su smartphon...</td>\n",
       "    </tr>\n",
       "    <tr>\n",
       "      <th>1388</th>\n",
       "      <td>#maskism 😷\\n_______________________________\\nn...</td>\n",
       "    </tr>\n",
       "    <tr>\n",
       "      <th>1389</th>\n",
       "      <td>🎉 ¡EL NOMBRE DE LA ROSA de Umberto Eco en la #...</td>\n",
       "    </tr>\n",
       "    <tr>\n",
       "      <th>1390</th>\n",
       "      <td>Conchas rellenas de delicioso gelato. ¿Tenemos...</td>\n",
       "    </tr>\n",
       "    <tr>\n",
       "      <th>1391</th>\n",
       "      <td>@AstroBehnken @Astro_Doug ¡Ya casi, ya casi! h...</td>\n",
       "    </tr>\n",
       "  </tbody>\n",
       "</table>\n",
       "<p>1392 rows × 1 columns</p>\n",
       "</div>"
      ],
      "text/plain": [
       "                                                 Tweets\n",
       "0                               https://t.co/6cmSHgMXJo\n",
       "1     RT @AkemiLook: UPDATE: I just got off a call w...\n",
       "2     RT @AkemiLook: CALLING LA LAWYERS: LA is in de...\n",
       "3     Pablo Guerrero Cañez, luchador social de Mexic...\n",
       "4     Sounds like Wolvie will be getting a cool new ...\n",
       "...                                                 ...\n",
       "1387  ¿Cuántos juegos han comprado para su smartphon...\n",
       "1388  #maskism 😷\\n_______________________________\\nn...\n",
       "1389  🎉 ¡EL NOMBRE DE LA ROSA de Umberto Eco en la #...\n",
       "1390  Conchas rellenas de delicioso gelato. ¿Tenemos...\n",
       "1391  @AstroBehnken @Astro_Doug ¡Ya casi, ya casi! h...\n",
       "\n",
       "[1392 rows x 1 columns]"
      ]
     },
     "execution_count": 3,
     "metadata": {},
     "output_type": "execute_result"
    }
   ],
   "source": [
    "dataTweets = pandas.read_csv(\".//TweetsTest//FinalUTF8.txt\", names=['Tweets'])\n",
    "dataTweets = dataTweets.dropna()\n",
    "dataTweets.info()\n",
    "dataTweets"
   ]
  },
  {
   "cell_type": "code",
   "execution_count": 29,
   "metadata": {},
   "outputs": [
    {
     "name": "stdout",
     "output_type": "stream",
     "text": [
      "1392\n"
     ]
    }
   ],
   "source": [
    "listTweets = dataTweets.Tweets.values.tolist()\n",
    "print(len(listTweets))\n",
    "cleanTweets =[]\n",
    "pattern = re.compile('https?://(?:[-\\w./]|(?:%\\da-fA-F{2}))+')"
   ]
  },
  {
   "cell_type": "code",
   "execution_count": 30,
   "metadata": {},
   "outputs": [],
   "source": [
    "for tweet in listTweets:\n",
    "    res = re.findall(pattern, tweet)\n",
    "    if (len(res) != 0):\n",
    "        aux = tweet.replace(res[0], '')\n",
    "        cleanTweets.append(aux)\n",
    "    else:\n",
    "        cleanTweets.append(tweet)\n",
    "        \n"
   ]
  },
  {
   "cell_type": "code",
   "execution_count": 34,
   "metadata": {},
   "outputs": [],
   "source": [
    "#print(cleanTweets)\n",
    "tweets = numpy.asarray(cleanTweets)"
   ]
  },
  {
   "cell_type": "code",
   "execution_count": 35,
   "metadata": {},
   "outputs": [],
   "source": [
    "Covid = []\n",
    "Tecnologia = []\n",
    "Deportes = []\n",
    "Economia =[]\n",
    "Cultura = []\n",
    "\n",
    "for tweet in tweets:\n",
    "    result = MAP(tweet, palabrasCovid, AlfabetoCovid, palabrasTecn, AlfabetoTecn, palabrasDep, AlfabetoDep)\n",
    "    if result == 'covid':\n",
    "        Covid.append([tweet, result])\n",
    "    if result == 'tecnologia':\n",
    "        Tecnologia.append([tweet, result])\n",
    "    if result == 'deportes':\n",
    "        Deportes.append([tweet, result])\n",
    "    if result == 'economia':\n",
    "        Economia.append([tweet, result])\n",
    "    if result == 'cultura':\n",
    "        Cultura.append([tweet, result])\n"
   ]
  },
  {
   "cell_type": "code",
   "execution_count": 36,
   "metadata": {},
   "outputs": [
    {
     "name": "stdout",
     "output_type": "stream",
     "text": [
      "Covid =  148\n",
      "Tecnología =  1215\n",
      "Deportes =  0\n",
      "Economía =  3\n",
      "Cultura =  26\n"
     ]
    }
   ],
   "source": [
    "print(\"Covid = \", len(Covid))\n",
    "print(\"Tecnología = \", len(Tecnologia))\n",
    "print(\"Deportes = \", len(Deportes))\n",
    "print(\"Economía = \", len(Economia))\n",
    "print(\"Cultura = \", len(Cultura))"
   ]
  },
  {
   "cell_type": "code",
   "execution_count": 37,
   "metadata": {},
   "outputs": [],
   "source": [
    "cov = numpy.asarray(Covid)\n",
    "tec = numpy.asarray(Tecnologia)\n",
    "dep = numpy.asarray(Deportes)\n",
    "eco = numpy.asarray(Economia)\n",
    "cul = numpy.asarray(Cultura)"
   ]
  },
  {
   "cell_type": "markdown",
   "metadata": {},
   "source": [
    "## Se evaluara mediante el análisis de sentimientos cada tópico"
   ]
  },
  {
   "cell_type": "code",
   "execution_count": 38,
   "metadata": {},
   "outputs": [
    {
     "name": "stdout",
     "output_type": "stream",
     "text": [
      "Positivos =  0 Negativos =  1 Neutros =  147\n"
     ]
    }
   ],
   "source": [
    "Pos = 0\n",
    "Neg = 0\n",
    "Neu = 0\n",
    "\n",
    "\n",
    "for i in range(len(cov)):\n",
    "    tweet = Covid[i][0]\n",
    "    vs = SIA.polarity_scores(tweet)\n",
    "    #print(vs)\n",
    "    auxArr = numpy.split(numpy.asarray(list(vs.items())).T, 2)\n",
    "    #print(auxArr)\n",
    "    values = numpy.asarray(auxArr[1], dtype =float).flatten()\n",
    "    #print(values)\n",
    "    compound = values[3]\n",
    "    #print(compound)\n",
    "\n",
    "    if(compound >= 0.05):\n",
    "        Pos += 1\n",
    "    if(compound <= -0.05):\n",
    "        Neg += 1\n",
    "    if (compound > -0.05 and compound < 0.05):\n",
    "        Neu += 1\n",
    "\n",
    "        \n",
    "print(\"Positivos = \", Pos, \"Negativos = \", Neg, \"Neutros = \", Neu)"
   ]
  },
  {
   "cell_type": "code",
   "execution_count": 39,
   "metadata": {},
   "outputs": [
    {
     "name": "stdout",
     "output_type": "stream",
     "text": [
      "Positivos =  272 Negativos =  159 Neutros =  784\n"
     ]
    }
   ],
   "source": [
    "Pos = 0\n",
    "Neg = 0\n",
    "Neu = 0\n",
    "\n",
    "\n",
    "for i in range(len(tec)):\n",
    "    tweet = Tecnologia[i][0]\n",
    "    vs = SIA.polarity_scores(tweet)\n",
    "    #print(vs)\n",
    "    auxArr = numpy.split(numpy.asarray(list(vs.items())).T, 2)\n",
    "    #print(auxArr)\n",
    "    values = numpy.asarray(auxArr[1], dtype =float).flatten()\n",
    "    #print(values)\n",
    "    compound = values[3]\n",
    "    #print(compound)\n",
    "\n",
    "    if(compound >= 0.05):\n",
    "        Pos += 1\n",
    "    if(compound <= -0.05):\n",
    "        Neg += 1\n",
    "    if (compound > -0.05 and compound < 0.05):\n",
    "        Neu += 1\n",
    "\n",
    "        \n",
    "print(\"Positivos = \", Pos, \"Negativos = \", Neg, \"Neutros = \", Neu)"
   ]
  },
  {
   "cell_type": "code",
   "execution_count": 40,
   "metadata": {},
   "outputs": [
    {
     "name": "stdout",
     "output_type": "stream",
     "text": [
      "Positivos =  0 Negativos =  0 Neutros =  0\n"
     ]
    }
   ],
   "source": [
    "Pos = 0\n",
    "Neg = 0\n",
    "Neu = 0\n",
    "\n",
    "\n",
    "for i in range(len(dep)):\n",
    "    tweet = Deportes[i][0]\n",
    "    vs = SIA.polarity_scores(tweet)\n",
    "    #print(vs)\n",
    "    auxArr = numpy.split(numpy.asarray(list(vs.items())).T, 2)\n",
    "    #print(auxArr)\n",
    "    values = numpy.asarray(auxArr[1], dtype =float).flatten()\n",
    "    #print(values)\n",
    "    compound = values[3]\n",
    "    #print(compound)\n",
    "\n",
    "    if(compound >= 0.05):\n",
    "        Pos += 1\n",
    "    if(compound <= -0.05):\n",
    "        Neg += 1\n",
    "    if (compound > -0.05 and compound < 0.05):\n",
    "        Neu += 1\n",
    "\n",
    "        \n",
    "print(\"Positivos = \", Pos, \"Negativos = \", Neg, \"Neutros = \", Neu)"
   ]
  },
  {
   "cell_type": "code",
   "execution_count": 41,
   "metadata": {},
   "outputs": [
    {
     "name": "stdout",
     "output_type": "stream",
     "text": [
      "Positivos =  1 Negativos =  0 Neutros =  2\n"
     ]
    }
   ],
   "source": [
    "Pos = 0\n",
    "Neg = 0\n",
    "Neu = 0\n",
    "\n",
    "\n",
    "for i in range(len(eco)):\n",
    "    tweet = Economia[i][0]\n",
    "    vs = SIA.polarity_scores(tweet)\n",
    "    #print(vs)\n",
    "    auxArr = numpy.split(numpy.asarray(list(vs.items())).T, 2)\n",
    "    #print(auxArr)\n",
    "    values = numpy.asarray(auxArr[1], dtype =float).flatten()\n",
    "    #print(values)\n",
    "    compound = values[3]\n",
    "    #print(compound)\n",
    "\n",
    "    if(compound >= 0.05):\n",
    "        Pos += 1\n",
    "    if(compound <= -0.05):\n",
    "        Neg += 1\n",
    "    if (compound > -0.05 and compound < 0.05):\n",
    "        Neu += 1\n",
    "\n",
    "        \n",
    "print(\"Positivos = \", Pos, \"Negativos = \", Neg, \"Neutros = \", Neu)"
   ]
  },
  {
   "cell_type": "code",
   "execution_count": 42,
   "metadata": {},
   "outputs": [
    {
     "name": "stdout",
     "output_type": "stream",
     "text": [
      "Positivos =  8 Negativos =  1 Neutros =  17\n"
     ]
    }
   ],
   "source": [
    "Pos = 0\n",
    "Neg = 0\n",
    "Neu = 0\n",
    "\n",
    "\n",
    "for i in range(len(cul)):\n",
    "    tweet = Cultura[i][0]\n",
    "    vs = SIA.polarity_scores(tweet)\n",
    "    #print(vs)\n",
    "    auxArr = numpy.split(numpy.asarray(list(vs.items())).T, 2)\n",
    "    #print(auxArr)\n",
    "    values = numpy.asarray(auxArr[1], dtype =float).flatten()\n",
    "    #print(values)\n",
    "    compound = values[3]\n",
    "    #print(compound)\n",
    "\n",
    "    if(compound >= 0.05):\n",
    "        Pos += 1\n",
    "    if(compound <= -0.05):\n",
    "        Neg += 1\n",
    "    if (compound > -0.05 and compound < 0.05):\n",
    "        Neu += 1\n",
    "\n",
    "        \n",
    "print(\"Positivos = \", Pos, \"Negativos = \", Neg, \"Neutros = \", Neu)"
   ]
  },
  {
   "cell_type": "code",
   "execution_count": null,
   "metadata": {},
   "outputs": [],
   "source": []
  }
 ],
 "metadata": {
  "kernelspec": {
   "display_name": "Python 3",
   "language": "python",
   "name": "python3"
  },
  "language_info": {
   "codemirror_mode": {
    "name": "ipython",
    "version": 3
   },
   "file_extension": ".py",
   "mimetype": "text/x-python",
   "name": "python",
   "nbconvert_exporter": "python",
   "pygments_lexer": "ipython3",
   "version": "3.7.6"
  }
 },
 "nbformat": 4,
 "nbformat_minor": 4
}
