{
 "cells": [
  {
   "cell_type": "code",
   "execution_count": 59,
   "metadata": {},
   "outputs": [],
   "source": [
    "import numpy \n",
    "import itertools\n",
    "import matplotlib.pyplot as plt\n",
    "import pandas \n",
    "import nltk\n",
    "import csv\n",
    "import re\n",
    "from sklearn.model_selection import train_test_split\n",
    "from sklearn.metrics import confusion_matrix\n",
    "from sklearn.feature_extraction.text import TfidfVectorizer\n",
    "\n",
    "from stop_words import get_stop_words\n"
   ]
  },
  {
   "cell_type": "code",
   "execution_count": 60,
   "metadata": {},
   "outputs": [],
   "source": [
    "stop_words = get_stop_words('spanish')"
   ]
  },
  {
   "cell_type": "code",
   "execution_count": 61,
   "metadata": {},
   "outputs": [],
   "source": [
    "def plot_confusion_matrix(cm,\n",
    "                          target_names,\n",
    "                          title='Confusion matrix',\n",
    "                          cmap=None,\n",
    "                          normalize=True):\n",
    "    \"\"\"\n",
    "    given a sklearn confusion matrix (cm), make a nice plot\n",
    "\n",
    "    Arguments\n",
    "    ---------\n",
    "    cm:           confusion matrix from sklearn.metrics.confusion_matrix\n",
    "\n",
    "    target_names: given classification classes such as [0, 1, 2]\n",
    "                  the class names, for example: ['high', 'medium', 'low']\n",
    "\n",
    "    title:        the text to display at the top of the matrix\n",
    "\n",
    "    cmap:         the gradient of the values displayed from matplotlib.pyplot.cm\n",
    "                  see http://matplotlib.org/examples/color/colormaps_reference.html\n",
    "                  plt.get_cmap('jet') or plt.cm.Blues\n",
    "\n",
    "    normalize:    If False, plot the raw numbers\n",
    "                  If True, plot the proportions\n",
    "\n",
    "    Citiation\n",
    "    ---------\n",
    "    http://scikit-learn.org/stable/auto_examples/model_selection/plot_confusion_matrix.html\n",
    "\n",
    "    \"\"\"\n",
    "\n",
    "    accuracy = numpy.trace(cm) / numpy.sum(cm).astype('float')\n",
    "    misclass = 1 - accuracy\n",
    "\n",
    "    if cmap is None:\n",
    "        cmap = plt.get_cmap('Blues')\n",
    "\n",
    "    plt.figure(figsize=(8, 6))\n",
    "    plt.imshow(cm, interpolation='nearest', cmap=cmap)\n",
    "    plt.title(title)\n",
    "    plt.colorbar()\n",
    "\n",
    "    if target_names is not None:\n",
    "        tick_marks = numpy.arange(len(target_names))\n",
    "        plt.xticks(tick_marks, target_names, rotation=45)\n",
    "        plt.yticks(tick_marks, target_names)\n",
    "\n",
    "    if normalize:\n",
    "        cm = cm.astype('float') / cm.sum(axis=1)[:, numpy.newaxis]\n",
    "\n",
    "\n",
    "    thresh = cm.max() / 1.5 if normalize else cm.max() / 2\n",
    "    for i, j in itertools.product(range(cm.shape[0]), range(cm.shape[1])):\n",
    "        if normalize:\n",
    "            plt.text(j, i, \"{:0.4f}\".format(cm[i, j]),\n",
    "                     horizontalalignment=\"center\",\n",
    "                     color=\"black\" if cm[i, j] > thresh else \"black\")\n",
    "        else:\n",
    "            plt.text(j, i, \"{:,}\".format(cm[i, j]),\n",
    "                     horizontalalignment=\"center\",\n",
    "                     color=\"black\" if cm[i, j] > thresh else \"black\")\n",
    "\n",
    "\n",
    "    plt.tight_layout()\n",
    "    plt.ylabel('Valores reales')\n",
    "    plt.xlabel('Valores predichos\\nExactitud={:0.4f}; Tasa de error={:0.4f}'.format(accuracy, misclass))\n",
    "    plt.show()"
   ]
  },
  {
   "cell_type": "markdown",
   "metadata": {},
   "source": [
    "##### Los topicos se encuentran juntos en el dataframe o en una lista, estas funciones separan el encabezado de acuerdo al tema, recibe el dataframe/lista y devuelve una lista con los titulares de un tópico en específico"
   ]
  },
  {
   "cell_type": "code",
   "execution_count": 62,
   "metadata": {},
   "outputs": [],
   "source": [
    "def splitTopic(topico, lista):\n",
    "    tema = []\n",
    "    for i in range(len(lista)):\n",
    "        if (lista[i][1] == topico):\n",
    "            tema.append(lista[i][0])\n",
    "    \n",
    "    return tema"
   ]
  },
  {
   "cell_type": "code",
   "execution_count": 63,
   "metadata": {},
   "outputs": [],
   "source": [
    "def separaTopico(topico, df): #Separa todos los encabezados de acuerdo a su tópico\n",
    "    listTopic = []\n",
    "    dataArr = numpy.asarray(df)\n",
    "    for i in range(len(dataArr)):\n",
    "        if(dataArr[i][1] == topico):\n",
    "            listTopic.append(dataArr[i][0])\n",
    "    return listTopic"
   ]
  },
  {
   "cell_type": "markdown",
   "metadata": {},
   "source": [
    "##### Cuando se tienen las palabras unicas de cada tópico, se eliminan caracteres especiales. Retorna una lista con las palabras que componen el texto"
   ]
  },
  {
   "cell_type": "code",
   "execution_count": 64,
   "metadata": {},
   "outputs": [],
   "source": [
    "def limpiaTexto(text):\n",
    "    \"List all the word tokens in a text.\"\n",
    "    return re.findall('[a-zA-Z0-9\\-áéíóúÁÉÍÓÚ@#]{2,254}', text.lower())"
   ]
  },
  {
   "cell_type": "markdown",
   "metadata": {},
   "source": [
    "##### Esta función busca omite las stop_words en idioma español"
   ]
  },
  {
   "cell_type": "code",
   "execution_count": 65,
   "metadata": {},
   "outputs": [],
   "source": [
    "def limpiaStopWords(titulares, stop_words):\n",
    "    newList = []\n",
    "    for i in range(len(titulares)):\n",
    "        aux = nltk.word_tokenize(titulares[i])\n",
    "        filtered_words = [word for word in aux if word not in stop_words] \n",
    "        newList.append(\" \".join(filtered_words))\n",
    "        \n",
    "    return numpy.asarray(newList)"
   ]
  },
  {
   "cell_type": "markdown",
   "metadata": {},
   "source": [
    "##### Esta función sustituye las tildes de las vocales por unicamente las vocales"
   ]
  },
  {
   "cell_type": "code",
   "execution_count": 66,
   "metadata": {},
   "outputs": [],
   "source": [
    "def cleanTildes(palabra):\n",
    "    s = palabra\n",
    "    replacements = (\n",
    "        (\"á\", \"a\"),\n",
    "        (\"é\", \"e\"),\n",
    "        (\"í\", \"i\"),\n",
    "        (\"ó\", \"o\"),\n",
    "        (\"ú\", \"u\"),\n",
    "    )\n",
    "    \n",
    "    for a, b in replacements:\n",
    "        s = s.replace(a, b).replace(a.upper(), b.upper())\n",
    "    \n",
    "    return s"
   ]
  },
  {
   "cell_type": "code",
   "execution_count": 67,
   "metadata": {},
   "outputs": [],
   "source": [
    "def limpiaPalabra(arrPalabras):\n",
    "    raiz = []\n",
    "    for i in range(len(arrPalabras)):\n",
    "        #raiz.append(RaizSingular(cleanTildes(arrPalabras[i])))\n",
    "        raiz.append(cleanTildes(arrPalabras[i]))\n",
    "    \n",
    "    return numpy.asarray(raiz, dtype=str)\n"
   ]
  },
  {
   "cell_type": "markdown",
   "metadata": {},
   "source": [
    "##### Cada encabezado corresponde a un documento, esta función separa cada palabra para agregarlas a un solo array"
   ]
  },
  {
   "cell_type": "code",
   "execution_count": 68,
   "metadata": {},
   "outputs": [],
   "source": [
    "def PalabrasTopico(listTopico): #Devuelve todas las palabras que aparecen en los titulares de las noticias \n",
    "    listHeadLines = []\n",
    "    for i in range(len(listTopico)):\n",
    "        #aux = nltk.word_tokenize(arrayTopico[i])\n",
    "        aux = limpiaTexto(listTopico[i])\n",
    "        #aux = limpiaPalabra()\n",
    "        for j in range(len(aux)):\n",
    "            aux2 = aux[j]\n",
    "            listHeadLines.append(aux2)\n",
    "            \n",
    "    return numpy.asarray(listHeadLines)"
   ]
  },
  {
   "cell_type": "code",
   "execution_count": 69,
   "metadata": {},
   "outputs": [],
   "source": [
    "def Probabilidad(palabrasTopico, palabrasUnicasTopico): #Devuelve un array con la ocurrencias de cada única del tópico\n",
    "    Prob = numpy.zeros(len(palabrasUnicasTopico))\n",
    "    for i in range(len(palabrasUnicasTopico)):\n",
    "        Prob[i] = numpy.sum(palabrasTopico == palabrasUnicasTopico[i])\n",
    "        Prob[i] = Prob[i] /len(palabrasTopico)\n",
    "        \n",
    "    return Prob"
   ]
  },
  {
   "cell_type": "markdown",
   "metadata": {},
   "source": [
    "##### Recibe el vector de probabilidades y elige la máxima para finalmente devolver el tópico al que pertenece"
   ]
  },
  {
   "cell_type": "code",
   "execution_count": 70,
   "metadata": {},
   "outputs": [],
   "source": [
    "def Clasificador(arrayProbabilidades):\n",
    "    indice = numpy.where(arrayProbabilidades == max(arrayProbabilidades))[0][0]\n",
    "    #print(\"Max = \", max(arrayProbabilidades))\n",
    "    if (indice == 0):\n",
    "        return 'covid'\n",
    "    if (indice == 1):\n",
    "        return 'tecnologia'\n",
    "    if (indice == 2):\n",
    "        return 'deportes'\n",
    "    if (indice == 3):\n",
    "        return 'economia'\n",
    "    if (indice == 4):\n",
    "        return 'cultura'\n",
    "    return 'otros'"
   ]
  },
  {
   "cell_type": "markdown",
   "metadata": {},
   "source": [
    "##### Devuelve la probabilidad máxima"
   ]
  },
  {
   "cell_type": "code",
   "execution_count": 71,
   "metadata": {},
   "outputs": [],
   "source": [
    "def MAP(tweet, palabrasCovid, AlfabetoCovid, palabrasTecn, AlfabetoTecn, palabrasDep, AlfabetoDep, palabrasEcon, AlfabetoEcon, palabrasCult, AlfabetoCult):\n",
    "    T = nltk.word_tokenize(tweet)\n",
    "    Proba = numpy.ones(5)\n",
    "\n",
    "    #Covid\n",
    "    for j in range(len(T)):\n",
    "        aux = numpy.sum(palabrasCovid == T[j]) + 1\n",
    "        #print(\"Palabra = \", T[j], \"Apariciones = \", aux)\n",
    "        Proba[0] = (aux) / (len(AlfabetoCovid) + aux) \n",
    "    \n",
    "    #Tecnologia\n",
    "    for j in range(len(T)):\n",
    "        aux = numpy.sum(palabrasTecn == T[j]) \n",
    "        #print(\"Palabra = \", T[j], \"Apariciones = \", aux)\n",
    "        Proba[1] = (aux) / (len(AlfabetoTecn) + aux) \n",
    "\n",
    "    #Deportes\n",
    "    for j in range(len(T)):\n",
    "        aux = numpy.sum(palabrasDep == T[j]) + 1\n",
    "        #print(\"Palabra = \", T[j], \"Apariciones = \", aux)\n",
    "        Proba[2] = (aux) / (len(AlfabetoDep) + aux) \n",
    "        \n",
    "    #Economía\n",
    "    for j in range(len(T)):\n",
    "        aux = numpy.sum(palabrasEcon == T[j]) + 1\n",
    "        #print(\"Palabra = \", T[j], \"Apariciones = \", aux)\n",
    "        Proba[3] = (aux) / (len(AlfabetoEcon) + aux) \n",
    "        \n",
    "    #Cultura\n",
    "    for j in range(len(T)):\n",
    "        aux = numpy.sum(palabrasCult == T[j]) + 1\n",
    "        #print(\"Palabra = \", T[j], \"Apariciones = \", aux)\n",
    "        Proba[4] = (aux) / (len(AlfabetoCult) + aux) \n",
    "\n",
    "        \n",
    "    return Clasificador(Proba)\n",
    "        "
   ]
  },
  {
   "cell_type": "markdown",
   "metadata": {},
   "source": [
    "#### Esta función remplaza las cadenas tipo URL, ya que conflictuan la clasificación"
   ]
  },
  {
   "cell_type": "code",
   "execution_count": 72,
   "metadata": {},
   "outputs": [],
   "source": [
    "def limpiaTweet(df):\n",
    "    listTweets = df.Tweets.values.tolist()\n",
    "    pattern = re.compile('https?://(?:[-\\w./]|(?:%\\da-fA-F{2}))+')\n",
    "    cleanTweets =[]\n",
    "    \n",
    "    for tweet in listTweets:\n",
    "        res = re.findall(pattern, tweet)\n",
    "        if (len(res) != 0):\n",
    "            aux = tweet.replace(res[0], '')\n",
    "            cleanTweets.append(aux)\n",
    "        else:\n",
    "            cleanTweets.append(tweet)\n",
    "            \n",
    "    for tweet in cleanTweets:\n",
    "        if(len(tweet) == 0):\n",
    "            cleanTweets.remove(tweet)\n",
    "    \n",
    "    return numpy.asarray(cleanTweets)"
   ]
  },
  {
   "cell_type": "code",
   "execution_count": 73,
   "metadata": {},
   "outputs": [],
   "source": [
    "def preProcesamiento(listaTitulares):\n",
    "    titulares = []\n",
    "    for titular in listaTitulares:\n",
    "        aux = limpiaTexto(titular)\n",
    "        titulares.append(str.join(' ', aux))\n",
    "        \n",
    "    titularesF1 = []\n",
    "    for titular in titulares:\n",
    "        titularesF1.append(str.join('', cleanTildes(titular)))\n",
    "        \n",
    "    \n",
    "    return titularesF1\n"
   ]
  },
  {
   "cell_type": "code",
   "execution_count": 74,
   "metadata": {},
   "outputs": [
    {
     "name": "stdout",
     "output_type": "stream",
     "text": [
      "['esto es el primer tweet covid-19', 'este es el segundo de facebook', 'tercer tweet con los goles', 'cuarto tweeet con el petroleo pib estados unidos', 'ultimo lugar con obras de arte conciertos']\n"
     ]
    }
   ],
   "source": [
    "tweetsPrueba= ['Esto es el primer tweet covid-19', 'este es el segundo de facebook', 'tercer tweet con los goles', 'cuarto tweeet con el petróleo y pib y  estados unidos', 'ultimo lugar con obras de arte y conciertos']\n",
    "#tweetsPrueba\n",
    "res = preProcesamiento(tweetsPrueba)\n",
    "print(res)"
   ]
  },
  {
   "cell_type": "markdown",
   "metadata": {},
   "source": [
    "##### TEST"
   ]
  },
  {
   "cell_type": "markdown",
   "metadata": {},
   "source": [
    "#### Abrimos el dataset con pandas\n",
    "Se abre el dataset de titulares y se realiza un preprocesamiento el cual consiste en eliminar tildes y eliminar palabras que tengan una longitud menor a tres "
   ]
  },
  {
   "cell_type": "code",
   "execution_count": 75,
   "metadata": {},
   "outputs": [
    {
     "name": "stdout",
     "output_type": "stream",
     "text": [
      "<class 'pandas.core.frame.DataFrame'>\n",
      "Int64Index: 3926 entries, 0 to 7854\n",
      "Data columns (total 2 columns):\n",
      " #   Column   Non-Null Count  Dtype \n",
      "---  ------   --------------  ----- \n",
      " 0   Titular  3926 non-null   object\n",
      " 1   Tópico   3926 non-null   object\n",
      "dtypes: object(2)\n",
      "memory usage: 92.0+ KB\n"
     ]
    }
   ],
   "source": [
    "nombres = ['Titular', 'Tópico']\n",
    "dataTrain = pandas.read_csv('.//TitularesTrain//titulares.csv', names=nombres)\n",
    "dataTrain = dataTrain.dropna()\n",
    "dataTrain.info()"
   ]
  },
  {
   "cell_type": "code",
   "execution_count": 76,
   "metadata": {},
   "outputs": [
    {
     "name": "stdout",
     "output_type": "stream",
     "text": [
      "Datos de entrenamiento =  2944\n"
     ]
    }
   ],
   "source": [
    "Y = dataTrain.Tópico.values.tolist()\n",
    "X = limpiaStopWords(dataTrain.Titular.values.tolist(), stop_words=stop_words)\n",
    "\n",
    "x, X_test, y, y_test = train_test_split(X, Y, test_size=0.25, random_state=100)\n",
    "\n",
    "unir = []\n",
    "for i in range(len(x)):\n",
    "    unir.append([x[i], y[i]])\n",
    "    \n",
    "print(\"Datos de entrenamiento = \", len(x))"
   ]
  },
  {
   "cell_type": "code",
   "execution_count": 77,
   "metadata": {},
   "outputs": [],
   "source": [
    "## Preprocesamiento de X_test\n",
    "resultPreproc = preProcesamiento(X_test)"
   ]
  },
  {
   "cell_type": "markdown",
   "metadata": {},
   "source": [
    "##### Separamos del dataset por tópicos y a cada encabezado lo separamos por palabra de los documentos eliminando caracteres especiales"
   ]
  },
  {
   "cell_type": "code",
   "execution_count": 78,
   "metadata": {},
   "outputs": [],
   "source": [
    "palabrasCovid = limpiaPalabra(PalabrasTopico(splitTopic('covid', unir)))\n",
    "AlfabetoCovid = numpy.unique(palabrasCovid)\n",
    "#PCov = Probabilidad(palabrasCovid, AlfabetoCovid)\n",
    "#print(\"Alfabeto Covid = \", len(AlfabetoCovid))\n",
    "\n",
    "palabrasTecn = limpiaPalabra(PalabrasTopico(splitTopic('tecnologia', unir)))\n",
    "AlfabetoTecn = numpy.unique(palabrasTecn)\n",
    "#PTecn = Probabilidad(palabrasTecn, AlfabetoTecn)\n",
    "\n",
    "palabrasDep = limpiaPalabra(PalabrasTopico(splitTopic('deportes', unir)))\n",
    "AlfabetoDep = numpy.unique(palabrasDep)\n",
    "#PDep = Probabilidad(palabrasDep, AlfabetoDep)\n",
    "#print(\"Alfabeto Deportes = \", len(AlfabetoDep))\n",
    "\n",
    "palabrasEcon = limpiaPalabra(PalabrasTopico(splitTopic('economia', unir)))\n",
    "AlfabetoEcon = numpy.unique(palabrasEcon)\n",
    "#PEcon = Probabilidad(palabrasEcon, AlfabetoEcon)\n",
    "#print(\"Alfabeto Economía = \", len(AlfabetoEcon))\n",
    "\n",
    "palabrasCult = limpiaPalabra(PalabrasTopico(splitTopic('cultura', unir)))\n",
    "AlfabetoCult = numpy.unique(palabrasCult)\n",
    "#PTecn = Probabilidad(palabrasCult, AlfabetoCult)\n",
    "#print(\"Alfabeto Cultura = \", len(AlfabetoCult))\n",
    "\n",
    "#Alfabeto = numpy.concatenate((AlfabetoCovid, AlfabetoTecn, AlfabetoDep, AlfabetoEcon, AlfabetoCult))\n",
    "#Alfabeto.shape"
   ]
  },
  {
   "cell_type": "markdown",
   "metadata": {},
   "source": [
    "##### Obtenemos las probabilidades a priori, haciendo cada una de estas equiprobabloe $ P(C) $"
   ]
  },
  {
   "cell_type": "code",
   "execution_count": 79,
   "metadata": {},
   "outputs": [],
   "source": [
    "PCovid = 1/5\n",
    "PTecn = 1/5\n",
    "PDep = 1/5\n",
    "PEcon = 1/5\n",
    "PCult = 1/5\n",
    "\n",
    "labels = ['Covid', 'Tecnologia', 'Deportes', 'Economia', 'Cultura']"
   ]
  },
  {
   "cell_type": "code",
   "execution_count": 80,
   "metadata": {},
   "outputs": [],
   "source": [
    "result = []\n",
    "for i in range(len(X_test)):\n",
    "    result.append(MAP(resultPreproc[i], palabrasCovid, AlfabetoCovid, palabrasTecn, AlfabetoTecn, palabrasDep, AlfabetoDep, palabrasEcon, AlfabetoEcon, palabrasCult, AlfabetoCult))\n",
    "    \n",
    "resultClass = numpy.asarray(result)\n",
    "\n",
    "#print(resultClass)\n",
    "#print(len(y_test))\n",
    "\n"
   ]
  },
  {
   "cell_type": "code",
   "execution_count": 81,
   "metadata": {},
   "outputs": [
    {
     "name": "stdout",
     "output_type": "stream",
     "text": [
      "[[181  53  16  31  11]\n",
      " [ 16  86   9  10   2]\n",
      " [ 30  47 157  28   7]\n",
      " [ 13  27  18 193   7]\n",
      " [  5  17   2   7   9]]\n"
     ]
    },
    {
     "data": {
      "image/png": "[encoded data removed]",
      "text/plain": [
       "<Figure size 576x432 with 2 Axes>"
      ]
     },
     "metadata": {
      "needs_background": "light"
     },
     "output_type": "display_data"
    }
   ],
   "source": [
    "cm = confusion_matrix(y_test, resultClass)\n",
    "print(cm)\n",
    "plot_confusion_matrix(cm,\n",
    "                      labels,\n",
    "                      title='Matriz de confusión',\n",
    "                      cmap=None,\n",
    "                      normalize=True)"
   ]
  },
  {
   "cell_type": "markdown",
   "metadata": {},
   "source": [
    "### Implementado TF-IDF"
   ]
  },
  {
   "cell_type": "code",
   "execution_count": 56,
   "metadata": {},
   "outputs": [
    {
     "name": "stdout",
     "output_type": "stream",
     "text": [
      "(982, 695)\n"
     ]
    }
   ],
   "source": [
    "vectorizer = TfidfVectorizer(stop_words = stop_words, ngram_range = (1,2), min_df = 3)\n",
    "X_TFidf = vectorizer.fit_transform(resultPreproc)\n",
    "#print(vectorizer.get_feature_names()) # Mapeo de matriz de índices de enteros de entidad a nombre de entidad\n",
    "print(X_TFidf.shape)"
   ]
  },
  {
   "cell_type": "code",
   "execution_count": null,
   "metadata": {},
   "outputs": [],
   "source": []
  }
 ],
 "metadata": {
  "kernelspec": {
   "display_name": "Python 3",
   "language": "python",
   "name": "python3"
  },
  "language_info": {
   "codemirror_mode": {
    "name": "ipython",
    "version": 3
   },
   "file_extension": ".py",
   "mimetype": "text/x-python",
   "name": "python",
   "nbconvert_exporter": "python",
   "pygments_lexer": "ipython3",
   "version": "3.7.6"
  }
 },
 "nbformat": 4,
 "nbformat_minor": 4
}
