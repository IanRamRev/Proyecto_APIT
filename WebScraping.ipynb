{
 "cells": [
  {
   "cell_type": "markdown",
   "metadata": {},
   "source": [
    "##### Notas de titulares del portal de noticias Proceso"
   ]
  },
  {
   "cell_type": "code",
   "execution_count": 1,
   "metadata": {},
   "outputs": [],
   "source": [
    "from bs4 import BeautifulSoup\n",
    "import urllib.request\n",
    "import nltk\n",
    "import numpy\n",
    "import csv"
   ]
  },
  {
   "cell_type": "code",
   "execution_count": 2,
   "metadata": {},
   "outputs": [],
   "source": [
    "def getHeadlines(url, tema):\n",
    "    html_page = urllib.request.urlopen(url).read().decode()\n",
    "    listaTitulares = []\n",
    "    i = 0\n",
    "    soup = BeautifulSoup(html_page, 'html.parser')\n",
    "    \n",
    "    for link in soup.find_all('h3'):\n",
    "        aux = link.get_text()\n",
    "        if (len(aux) > 20):\n",
    "            if (i < 60):\n",
    "                i = i + 1\n",
    "                listaTitulares.append([aux, tema])\n",
    "            else:\n",
    "                break\n",
    "            \n",
    "    return listaTitulares"
   ]
  },
  {
   "cell_type": "code",
   "execution_count": 17,
   "metadata": {},
   "outputs": [],
   "source": [
    "covid = numpy.asarray(getHeadlines('https://www.proceso.com.mx/category/covid-19', 'covid'), dtype=str)\n",
    "tecnologia = numpy.asarray(getHeadlines('https://www.proceso.com.mx/category/tecnologia', 'tecnologia'), dtype=str)\n",
    "deportes = numpy.asarray(getHeadlines('https://www.proceso.com.mx/category/deportes', 'deportes'), dtype=str)\n",
    "economia = numpy.asarray(getHeadlines('https://www.proceso.com.mx/category/economia-y-negocios', 'economia'), dtype=str)\n",
    "cultura = numpy.asarray(getHeadlines('https://www.proceso.com.mx/category/cultura/cultura-en-la-mira', 'cultura'), dtype=str)"
   ]
  },
  {
   "cell_type": "markdown",
   "metadata": {},
   "source": [
    "### Covid"
   ]
  },
  {
   "cell_type": "code",
   "execution_count": 19,
   "metadata": {},
   "outputs": [],
   "source": [
    "cov = []\n",
    "for page in range(2,20):\n",
    "    p = str(page)\n",
    "    url = 'https://www.proceso.com.mx/category/covid-19/page/'+p\n",
    "    cov.append(getHeadlines(url, 'covid'))\n",
    "    \n"
   ]
  },
  {
   "cell_type": "code",
   "execution_count": 20,
   "metadata": {},
   "outputs": [
    {
     "data": {
      "text/plain": [
       "(1080, 2)"
      ]
     },
     "execution_count": 20,
     "metadata": {},
     "output_type": "execute_result"
    }
   ],
   "source": [
    "HeadlinesCov = numpy.asarray(cov, dtype=str).reshape((1080,2))\n",
    "HeadlinesCov.shape"
   ]
  },
  {
   "cell_type": "markdown",
   "metadata": {},
   "source": [
    "### Tecnología"
   ]
  },
  {
   "cell_type": "code",
   "execution_count": 21,
   "metadata": {},
   "outputs": [],
   "source": [
    "tec = []\n",
    "for page in range(2,4):\n",
    "    p = str(page)\n",
    "    url = 'https://www.proceso.com.mx/category/tecnologia/page/'+p\n",
    "    tec.append(getHeadlines(url, 'tecnologia'))"
   ]
  },
  {
   "cell_type": "code",
   "execution_count": 22,
   "metadata": {},
   "outputs": [
    {
     "data": {
      "text/plain": [
       "(120, 2)"
      ]
     },
     "execution_count": 22,
     "metadata": {},
     "output_type": "execute_result"
    }
   ],
   "source": [
    "HeadlinesTecn = numpy.asarray(tec, dtype=str).reshape((120,2))\n",
    "HeadlinesTecn.shape"
   ]
  },
  {
   "cell_type": "markdown",
   "metadata": {},
   "source": [
    "### Deportes"
   ]
  },
  {
   "cell_type": "code",
   "execution_count": 23,
   "metadata": {},
   "outputs": [],
   "source": [
    "dep = []\n",
    "for page in range(2,20):\n",
    "    p = str(page)\n",
    "    url = 'https://www.proceso.com.mx/category/deportes/page/'+p\n",
    "    #print(url)\n",
    "    dep.append(getHeadlines(url, 'deportes'))"
   ]
  },
  {
   "cell_type": "code",
   "execution_count": 24,
   "metadata": {},
   "outputs": [
    {
     "data": {
      "text/plain": [
       "(1080, 2)"
      ]
     },
     "execution_count": 24,
     "metadata": {},
     "output_type": "execute_result"
    }
   ],
   "source": [
    "HeadlinesDep = numpy.asarray(dep, dtype=str).reshape((1080,2))\n",
    "HeadlinesDep.shape"
   ]
  },
  {
   "cell_type": "markdown",
   "metadata": {},
   "source": [
    "### Economía"
   ]
  },
  {
   "cell_type": "code",
   "execution_count": 27,
   "metadata": {},
   "outputs": [],
   "source": [
    "eco = []\n",
    "for page in range(2,20):\n",
    "    p = str(page)\n",
    "    url = 'https://www.proceso.com.mx/category/economia-y-negocios/page/'+p\n",
    "    eco.append(getHeadlines(url, 'economia'))"
   ]
  },
  {
   "cell_type": "code",
   "execution_count": 28,
   "metadata": {},
   "outputs": [
    {
     "data": {
      "text/plain": [
       "array(['La inflación, en su nivel más bajo desde hace cuatro años: Inegi',\n",
       "       'economia'], dtype='<U113')"
      ]
     },
     "execution_count": 28,
     "metadata": {},
     "output_type": "execute_result"
    }
   ],
   "source": [
    "HeadlinesEco = numpy.asarray(eco, dtype=str).reshape((1080,2))\n",
    "HeadlinesEco.shape\n",
    "\n",
    "HeadlinesEco[0]"
   ]
  },
  {
   "cell_type": "markdown",
   "metadata": {},
   "source": [
    "### Cultura"
   ]
  },
  {
   "cell_type": "code",
   "execution_count": 29,
   "metadata": {},
   "outputs": [],
   "source": [
    "cult = []\n",
    "for page in range(2,10):\n",
    "    p = str(page)\n",
    "    url = 'https://www.proceso.com.mx/category/cultura/cultura-en-la-mira/page/'+p\n",
    "    cult.append(getHeadlines(url, 'cultura'))"
   ]
  },
  {
   "cell_type": "code",
   "execution_count": 30,
   "metadata": {},
   "outputs": [
    {
     "data": {
      "text/plain": [
       "(480, 2)"
      ]
     },
     "execution_count": 30,
     "metadata": {},
     "output_type": "execute_result"
    }
   ],
   "source": [
    "HeadlinesCult = numpy.asarray(cult, dtype=str).reshape((480,2))\n",
    "HeadlinesCult.shape"
   ]
  },
  {
   "cell_type": "code",
   "execution_count": 31,
   "metadata": {},
   "outputs": [
    {
     "name": "stdout",
     "output_type": "stream",
     "text": [
      "(4140, 2)\n"
     ]
    }
   ],
   "source": [
    "myData = numpy.concatenate((covid, HeadlinesCov,\n",
    "                            tecnologia, HeadlinesTecn,\n",
    "                            deportes, HeadlinesDep,\n",
    "                            economia, HeadlinesEco,\n",
    "                            cultura, HeadlinesCult), axis=0)\n",
    "print(myData.shape)"
   ]
  },
  {
   "cell_type": "code",
   "execution_count": 32,
   "metadata": {},
   "outputs": [],
   "source": [
    "myFile = open('.//TitularesTrain//titulares.csv', 'w', encoding='utf-8')\n",
    "with myFile:\n",
    "    writer = csv.writer(myFile)\n",
    "    writer.writerows(myData)"
   ]
  }
 ],
 "metadata": {
  "kernelspec": {
   "display_name": "Python 3",
   "language": "python",
   "name": "python3"
  },
  "language_info": {
   "codemirror_mode": {
    "name": "ipython",
    "version": 3
   },
   "file_extension": ".py",
   "mimetype": "text/x-python",
   "name": "python",
   "nbconvert_exporter": "python",
   "pygments_lexer": "ipython3",
   "version": "3.7.6"
  }
 },
 "nbformat": 4,
 "nbformat_minor": 4
}
