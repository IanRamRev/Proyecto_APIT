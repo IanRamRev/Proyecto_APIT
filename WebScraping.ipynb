{
 "cells": [
  {
   "cell_type": "markdown",
   "metadata": {},
   "source": [
    "##### Notas de titulares del portal de noticias Proceso"
   ]
  },
  {
   "cell_type": "code",
   "execution_count": 115,
   "metadata": {},
   "outputs": [],
   "source": [
    "from bs4 import BeautifulSoup\n",
    "import urllib.request\n",
    "import nltk\n",
    "import numpy\n",
    "import csv"
   ]
  },
  {
   "cell_type": "code",
   "execution_count": 92,
   "metadata": {},
   "outputs": [],
   "source": [
    "def getHeadlines(url, tema):\n",
    "    html_page = urllib.request.urlopen(url).read().decode()\n",
    "    listaTitulares = []\n",
    "    i = 0\n",
    "    soup = BeautifulSoup(html_page, 'html.parser')\n",
    "    \n",
    "    for link in soup.find_all('h3'):\n",
    "        aux = link.get_text()\n",
    "        if (len(aux) > 20):\n",
    "            if (i < 60):\n",
    "                i = i + 1\n",
    "                listaTitulares.append([aux, tema])\n",
    "            else:\n",
    "                break\n",
    "            \n",
    "    return listaTitulares"
   ]
  },
  {
   "cell_type": "code",
   "execution_count": 93,
   "metadata": {},
   "outputs": [],
   "source": [
    "covid = numpy.asarray(getHeadlines('https://www.proceso.com.mx/category/covid-19', 'covid'), dtype=str)\n",
    "tecnologia = numpy.asarray(getHeadlines('https://www.proceso.com.mx/category/tecnologia', 'tecnologia'), dtype=str)\n",
    "deportes = numpy.asarray(getHeadlines('https://www.proceso.com.mx/category/deportes', 'deportes'), dtype=str)"
   ]
  },
  {
   "cell_type": "code",
   "execution_count": 97,
   "metadata": {},
   "outputs": [],
   "source": [
    "covid2 = numpy.asarray(getHeadlines('https://www.proceso.com.mx/category/covid-19/page/2', 'covid'), dtype=str)\n",
    "tecnologia2 = numpy.asarray(getHeadlines('https://www.proceso.com.mx/category/tecnologia/page/2', 'tecnologia'), dtype=str)\n",
    "deportes2 = numpy.asarray(getHeadlines('https://www.proceso.com.mx/category/deportes/page/2', 'deportes'), dtype=str)"
   ]
  },
  {
   "cell_type": "code",
   "execution_count": 98,
   "metadata": {},
   "outputs": [],
   "source": [
    "covid3 = numpy.asarray(getHeadlines('https://www.proceso.com.mx/category/covid-19/page/3', 'covid'), dtype=str)\n",
    "tecnologia3 = numpy.asarray(getHeadlines('https://www.proceso.com.mx/category/tecnologia/page/3', 'tecnologia'), dtype=str)\n",
    "deportes3 = numpy.asarray(getHeadlines('https://www.proceso.com.mx/category/deportes/page/3', 'deportes'), dtype=str)"
   ]
  },
  {
   "cell_type": "code",
   "execution_count": 99,
   "metadata": {},
   "outputs": [],
   "source": [
    "covid4 = numpy.asarray(getHeadlines('https://www.proceso.com.mx/category/covid-19/page/4', 'covid'), dtype=str)\n",
    "tecnologia4 = numpy.asarray(getHeadlines('https://www.proceso.com.mx/category/tecnologia/page/4', 'tecnologia'), dtype=str)\n",
    "deportes4 = numpy.asarray(getHeadlines('https://www.proceso.com.mx/category/deportes/page/4', 'deportes'), dtype=str)"
   ]
  },
  {
   "cell_type": "code",
   "execution_count": 100,
   "metadata": {},
   "outputs": [],
   "source": [
    "covid5 = numpy.asarray(getHeadlines('https://www.proceso.com.mx/category/covid-19/page/5', 'covid'), dtype=str)\n",
    "deportes5 = numpy.asarray(getHeadlines('https://www.proceso.com.mx/category/deportes/page/5', 'deportes'), dtype=str)"
   ]
  },
  {
   "cell_type": "code",
   "execution_count": 109,
   "metadata": {},
   "outputs": [],
   "source": [
    "covid6 = numpy.asarray(getHeadlines('https://www.proceso.com.mx/category/covid-19/page/6', 'covid'), dtype=str)\n",
    "deportes6 = numpy.asarray(getHeadlines('https://www.proceso.com.mx/category/deportes/page/6', 'deportes'), dtype=str)"
   ]
  },
  {
   "cell_type": "code",
   "execution_count": 110,
   "metadata": {},
   "outputs": [],
   "source": [
    "covid7 = numpy.asarray(getHeadlines('https://www.proceso.com.mx/category/covid-19/page/7', 'covid'), dtype=str)\n",
    "deportes7 = numpy.asarray(getHeadlines('https://www.proceso.com.mx/category/deportes/page/7', 'deporte'), dtype=str)"
   ]
  },
  {
   "cell_type": "code",
   "execution_count": 111,
   "metadata": {},
   "outputs": [],
   "source": [
    "covid8 = numpy.asarray(getHeadlines('https://www.proceso.com.mx/category/covid-19/page/8', 'covid'), dtype=str)\n",
    "deportes8 = numpy.asarray(getHeadlines('https://www.proceso.com.mx/category/deportes/page/8', 'deportes'), dtype=str)"
   ]
  },
  {
   "cell_type": "code",
   "execution_count": 113,
   "metadata": {},
   "outputs": [
    {
     "name": "stdout",
     "output_type": "stream",
     "text": [
      "(1200, 2)\n"
     ]
    }
   ],
   "source": [
    "myData = numpy.concatenate((covid, covid2, covid3, covid4, covid5, covid6, covid7, covid8,\n",
    "                            tecnologia,tecnologia2, tecnologia3, tecnologia4, \n",
    "                            deportes, deportes2,deportes3,deportes4,deportes5, deportes6,deportes7, deportes8), axis=0)\n",
    "print(myData.shape)"
   ]
  },
  {
   "cell_type": "code",
   "execution_count": 116,
   "metadata": {},
   "outputs": [],
   "source": [
    "myFile = open('titulares.csv', 'w', encoding='utf-8')\n",
    "with myFile:\n",
    "    writer = csv.writer(myFile)\n",
    "    writer.writerows(myData)"
   ]
  },
  {
   "cell_type": "code",
   "execution_count": null,
   "metadata": {},
   "outputs": [],
   "source": [
    "encoding='utf-8'"
   ]
  }
 ],
 "metadata": {
  "kernelspec": {
   "display_name": "Python 3",
   "language": "python",
   "name": "python3"
  },
  "language_info": {
   "codemirror_mode": {
    "name": "ipython",
    "version": 3
   },
   "file_extension": ".py",
   "mimetype": "text/x-python",
   "name": "python",
   "nbconvert_exporter": "python",
   "pygments_lexer": "ipython3",
   "version": "3.7.6"
  }
 },
 "nbformat": 4,
 "nbformat_minor": 4
}
